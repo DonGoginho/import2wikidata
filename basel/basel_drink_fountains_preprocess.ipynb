{
 "cells": [
  {
   "cell_type": "markdown",
   "metadata": {},
   "source": [
    "# Automatic import of Basel drinking fountains data to Wikidata\n",
    "The following script downloads fountain data from Open Data swiss as per https://github.com/water-fountains/import2wikidata/issues/12, compares it to existing fountains in Wikidata for the same region, and creates Wikidata Quickstatement commands to complete the entries in Wikidata. New entities are created if no matching fountains are found."
   ]
  },
  {
   "cell_type": "markdown",
   "metadata": {},
   "source": [
    "## Initialize environment"
   ]
  },
  {
   "cell_type": "code",
   "execution_count": 1,
   "metadata": {},
   "outputs": [
    {
     "name": "stdout",
     "output_type": "stream",
     "text": [
      "Python v 3.6.5\n"
     ]
    }
   ],
   "source": [
    "from datetime import datetime as dt\n",
    "dtFmt = \"%y%m%d_%H%M%S\"\n",
    "print (dt.now().strftime(dtFmt))\n",
    "import pandas as pd\n",
    "import io\n",
    "import numpy as np\n",
    "from urllib.request import urlopen\n",
    "import json\n",
    "from math import *\n",
    "from platform import python_version\n",
    "print(\"Python v \"+python_version())\n",
    "#https://github.com/paulhoule/gastrodon/issues/7 \n",
    "from gastrodon import RemoteEndpoint,QName,ttl,URIRef,inline\n",
    "from matplotlib import pyplot\n"
   ]
  },
  {
   "cell_type": "code",
   "execution_count": 2,
   "metadata": {},
   "outputs": [],
   "source": [
    "#@prefix wikibase: <wikibase: <http://wikiba.se/ontology#> .\n",
    "prefixes=inline(\"\"\"\n",
    "   @prefix wd: <http://www.wikidata.org/entity/> .\n",
    "   @prefix wdt: <http://www.wikidata.org/prop/direct/> .\n",
    "   @prefix rdf: <http://www.w3.org/1999/02/22-rdf-syntax-ns#> .\n",
    "   @prefix rdfs: <http://www.w3.org/2000/01/rdf-schema#> .\n",
    "\"\"\").graph\n",
    "endpoint=RemoteEndpoint(\n",
    "   \"http://query.wikidata.org/sparql\"\n",
    "   ,prefixes=prefixes\n",
    ")"
   ]
  },
  {
   "cell_type": "markdown",
   "metadata": {},
   "source": [
    "## Load data"
   ]
  },
  {
   "cell_type": "code",
   "execution_count": 3,
   "metadata": {},
   "outputs": [],
   "source": [
    "df = pd.read_csv(\"data/Trinkbrunnen.csv\")"
   ]
  },
  {
   "cell_type": "code",
   "execution_count": 4,
   "metadata": {},
   "outputs": [
    {
     "data": {
      "text/html": [
       "<div>\n",
       "<style scoped>\n",
       "    .dataframe tbody tr th:only-of-type {\n",
       "        vertical-align: middle;\n",
       "    }\n",
       "\n",
       "    .dataframe tbody tr th {\n",
       "        vertical-align: top;\n",
       "    }\n",
       "\n",
       "    .dataframe thead th {\n",
       "        text-align: right;\n",
       "    }\n",
       "</style>\n",
       "<table border=\"1\" class=\"dataframe\">\n",
       "  <thead>\n",
       "    <tr style=\"text-align: right;\">\n",
       "      <th></th>\n",
       "      <th>X</th>\n",
       "      <th>Y</th>\n",
       "      <th>Name</th>\n",
       "      <th>Description</th>\n",
       "    </tr>\n",
       "  </thead>\n",
       "  <tbody>\n",
       "    <tr>\n",
       "      <th>0</th>\n",
       "      <td>7.629450</td>\n",
       "      <td>47.562891</td>\n",
       "      <td>Äänisbreetli-Brunnen</td>\n",
       "      <td>&lt;img src=\"https://doc-04-24-mymaps.googleuserc...</td>\n",
       "    </tr>\n",
       "    <tr>\n",
       "      <th>1</th>\n",
       "      <td>7.597086</td>\n",
       "      <td>47.558396</td>\n",
       "      <td>Achteck-Brunnen</td>\n",
       "      <td>&lt;img src=\"https://doc-0s-24-mymaps.googleuserc...</td>\n",
       "    </tr>\n",
       "    <tr>\n",
       "      <th>2</th>\n",
       "      <td>7.593189</td>\n",
       "      <td>47.550235</td>\n",
       "      <td>Aeschengraben-Brunnen</td>\n",
       "      <td>&lt;img src=\"https://doc-00-24-mymaps.googleuserc...</td>\n",
       "    </tr>\n",
       "    <tr>\n",
       "      <th>3</th>\n",
       "      <td>7.586400</td>\n",
       "      <td>47.558155</td>\n",
       "      <td>Affen-Brunnen</td>\n",
       "      <td>&lt;img src=\"https://doc-0g-24-mymaps.googleuserc...</td>\n",
       "    </tr>\n",
       "    <tr>\n",
       "      <th>4</th>\n",
       "      <td>7.593095</td>\n",
       "      <td>47.554276</td>\n",
       "      <td>Affen-Brunnen</td>\n",
       "      <td>&lt;img src=\"https://doc-0g-24-mymaps.googleuserc...</td>\n",
       "    </tr>\n",
       "  </tbody>\n",
       "</table>\n",
       "</div>"
      ],
      "text/plain": [
       "          X          Y                   Name  \\\n",
       "0  7.629450  47.562891   Äänisbreetli-Brunnen   \n",
       "1  7.597086  47.558396        Achteck-Brunnen   \n",
       "2  7.593189  47.550235  Aeschengraben-Brunnen   \n",
       "3  7.586400  47.558155          Affen-Brunnen   \n",
       "4  7.593095  47.554276          Affen-Brunnen   \n",
       "\n",
       "                                         Description  \n",
       "0  <img src=\"https://doc-04-24-mymaps.googleuserc...  \n",
       "1  <img src=\"https://doc-0s-24-mymaps.googleuserc...  \n",
       "2  <img src=\"https://doc-00-24-mymaps.googleuserc...  \n",
       "3  <img src=\"https://doc-0g-24-mymaps.googleuserc...  \n",
       "4  <img src=\"https://doc-0g-24-mymaps.googleuserc...  "
      ]
     },
     "execution_count": 4,
     "metadata": {},
     "output_type": "execute_result"
    }
   ],
   "source": [
    "df.head()"
   ]
  },
  {
   "cell_type": "markdown",
   "metadata": {},
   "source": [
    "### Rename columns to make them easier to work with"
   ]
  },
  {
   "cell_type": "code",
   "execution_count": 5,
   "metadata": {
    "scrolled": true
   },
   "outputs": [],
   "source": [
    "\n",
    "# remove not needed columns\n",
    "df = df.drop(columns=['Description'])\n",
    "# rename columns\n",
    "df = df.rename(index=str, columns=\n",
    "               {\"Name\": \"label_de\"})"
   ]
  },
  {
   "cell_type": "markdown",
   "metadata": {},
   "source": [
    "## Identify already existing fountains\n",
    "### Query fountains from Wikidata"
   ]
  },
  {
   "cell_type": "code",
   "execution_count": 6,
   "metadata": {},
   "outputs": [],
   "source": [
    "# Find the geographic extent of the data\n",
    "\n",
    "buffer = 0.0003  # in degrees, corresponds to about 20-30 meters)\n",
    "bounds = {\n",
    "    'minX': df['X'].min() - buffer,\n",
    "    'minY': df['Y'].min() - buffer,\n",
    "    'maxX': df['X'].max() + buffer,\n",
    "    'maxY': df['Y'].max() + buffer\n",
    "}"
   ]
  },
  {
   "cell_type": "code",
   "execution_count": 26,
   "metadata": {},
   "outputs": [],
   "source": [
    "# Query fountains (both water wells and fountains) from Wikidata within bounding box found above\n",
    "\n",
    "query_string = \"\"\" SELECT ?place ?placeLabel ?location ?date ?catalog_code ?catalogLabel ?operator ?water_supply_type\n",
    "WHERE\n",
    "{{\n",
    "  # Enter coordinates\n",
    "  SERVICE wikibase:box {{\n",
    "    ?place wdt:P625 ?location .\n",
    "    bd:serviceParam wikibase:cornerWest \"Point({minX} {minY})\"^^geo:wktLiteral.\n",
    "    bd:serviceParam wikibase:cornerEast \"Point({maxX} {maxY})\"^^geo:wktLiteral.\n",
    "  }} .\n",
    "  # Is a water well or fountain or subclass of fountain\n",
    "  FILTER (EXISTS {{ ?place wdt:P31/wdt:P279* wd:Q43483 }} || EXISTS {{ ?place wdt:P31/wdt:P279* wd:Q483453 }}).\n",
    "  SERVICE wikibase:label {{\n",
    "    bd:serviceParam wikibase:language \"[AUTO_LANGUAGE],de\" .\n",
    "  }} \n",
    "  OPTIONAL {{ ?place p:P528 ?catalog_code.\n",
    "            ?catalog_code pq:P972 ?catalog.}}\n",
    "  OPTIONAL {{ ?place wdt:P571 ?date.}}\n",
    "  OPTIONAL {{ ?place wdt:P5623 ?water_supply_type}}\n",
    "  OPTIONAL {{ ?place wdt:P137 ?operator.}}\n",
    "}}\n",
    "  \"\"\".format(**bounds)\n",
    "\n",
    "# Perform query\n",
    "query_result = endpoint.select(query_string)"
   ]
  },
  {
   "cell_type": "code",
   "execution_count": 27,
   "metadata": {
    "scrolled": true
   },
   "outputs": [
    {
     "name": "stdout",
     "output_type": "stream",
     "text": [
      " SELECT ?place ?placeLabel ?location ?date ?catalog_code ?catalogLabel ?operator ?water_supply_type\n",
      "WHERE\n",
      "{\n",
      "  # Enter coordinates\n",
      "  SERVICE wikibase:box {\n",
      "    ?place wdt:P625 ?location .\n",
      "    bd:serviceParam wikibase:cornerWest \"Point(7.5570532 47.5279767)\"^^geo:wktLiteral.\n",
      "    bd:serviceParam wikibase:cornerEast \"Point(7.630431 47.5840738)\"^^geo:wktLiteral.\n",
      "  } .\n",
      "  # Is a water well or fountain or subclass of fountain\n",
      "  FILTER (EXISTS { ?place wdt:P31/wdt:P279* wd:Q43483 } || EXISTS { ?place wdt:P31/wdt:P279* wd:Q483453 }).\n",
      "  SERVICE wikibase:label {\n",
      "    bd:serviceParam wikibase:language \"[AUTO_LANGUAGE],de\" .\n",
      "  } \n",
      "  OPTIONAL { ?place p:P528 ?catalog_code.\n",
      "            ?catalog_code pq:P972 ?catalog.}\n",
      "  OPTIONAL { ?place wdt:P571 ?date.}\n",
      "  OPTIONAL { ?place wdt:P5623 ?water_supply_type}\n",
      "  OPTIONAL { ?place wdt:P137 ?operator.}\n",
      "}\n",
      "  \n",
      "\n",
      "\n",
      "Total number of rows incl. duplicates 2528\n"
     ]
    }
   ],
   "source": [
    "print(query_string)\n",
    "print(\"\\n\\nTotal number of rows incl. duplicates \"+str(query_result.size))"
   ]
  },
  {
   "cell_type": "markdown",
   "metadata": {},
   "source": [
    "### Tidy up data"
   ]
  },
  {
   "cell_type": "code",
   "execution_count": 28,
   "metadata": {
    "scrolled": true
   },
   "outputs": [
    {
     "data": {
      "text/html": [
       "<div>\n",
       "<style scoped>\n",
       "    .dataframe tbody tr th:only-of-type {\n",
       "        vertical-align: middle;\n",
       "    }\n",
       "\n",
       "    .dataframe tbody tr th {\n",
       "        vertical-align: top;\n",
       "    }\n",
       "\n",
       "    .dataframe thead th {\n",
       "        text-align: right;\n",
       "    }\n",
       "</style>\n",
       "<table border=\"1\" class=\"dataframe\">\n",
       "  <thead>\n",
       "    <tr style=\"text-align: right;\">\n",
       "      <th></th>\n",
       "      <th>place</th>\n",
       "      <th>placeLabel</th>\n",
       "      <th>location</th>\n",
       "      <th>date</th>\n",
       "      <th>catalog_code</th>\n",
       "      <th>catalogLabel</th>\n",
       "      <th>operator</th>\n",
       "      <th>water_supply_type</th>\n",
       "      <th>X</th>\n",
       "      <th>Y</th>\n",
       "    </tr>\n",
       "  </thead>\n",
       "  <tbody>\n",
       "    <tr>\n",
       "      <th>0</th>\n",
       "      <td>wd:Q61881745</td>\n",
       "      <td>Allschwilerplatz-Brunnen</td>\n",
       "      <td>Point(7.5693423 47.5574918)</td>\n",
       "      <td>1933-01-01T00:00:00Z</td>\n",
       "      <td>None</td>\n",
       "      <td>None</td>\n",
       "      <td>None</td>\n",
       "      <td>None</td>\n",
       "      <td>7.569342</td>\n",
       "      <td>47.557492</td>\n",
       "    </tr>\n",
       "    <tr>\n",
       "      <th>1</th>\n",
       "      <td>wd:Q72935373</td>\n",
       "      <td>Brunnen im Bruderholzschulhaus</td>\n",
       "      <td>Point(7.595505 47.5309589)</td>\n",
       "      <td>None</td>\n",
       "      <td>None</td>\n",
       "      <td>None</td>\n",
       "      <td>wd:Q72936279</td>\n",
       "      <td>None</td>\n",
       "      <td>7.595505</td>\n",
       "      <td>47.530959</td>\n",
       "    </tr>\n",
       "    <tr>\n",
       "      <th>2</th>\n",
       "      <td>wd:Q72935434</td>\n",
       "      <td>Sevogel-Brunnen</td>\n",
       "      <td>Point(7.5887686 47.5587034)</td>\n",
       "      <td>None</td>\n",
       "      <td>None</td>\n",
       "      <td>None</td>\n",
       "      <td>wd:Q72936279</td>\n",
       "      <td>None</td>\n",
       "      <td>7.588769</td>\n",
       "      <td>47.558703</td>\n",
       "    </tr>\n",
       "    <tr>\n",
       "      <th>3</th>\n",
       "      <td>wd:Q72935468</td>\n",
       "      <td>Stachelschützen-Brunnen</td>\n",
       "      <td>Point(7.5826585 47.558526)</td>\n",
       "      <td>None</td>\n",
       "      <td>None</td>\n",
       "      <td>None</td>\n",
       "      <td>wd:Q72936279</td>\n",
       "      <td>None</td>\n",
       "      <td>7.582658</td>\n",
       "      <td>47.558526</td>\n",
       "    </tr>\n",
       "    <tr>\n",
       "      <th>4</th>\n",
       "      <td>wd:Q72935495</td>\n",
       "      <td>Brunnen (Seelöwe-Planschbecken )</td>\n",
       "      <td>Point(7.5740674 47.55292)</td>\n",
       "      <td>None</td>\n",
       "      <td>None</td>\n",
       "      <td>None</td>\n",
       "      <td>wd:Q72936279</td>\n",
       "      <td>None</td>\n",
       "      <td>7.574067</td>\n",
       "      <td>47.552920</td>\n",
       "    </tr>\n",
       "    <tr>\n",
       "      <th>...</th>\n",
       "      <td>...</td>\n",
       "      <td>...</td>\n",
       "      <td>...</td>\n",
       "      <td>...</td>\n",
       "      <td>...</td>\n",
       "      <td>...</td>\n",
       "      <td>...</td>\n",
       "      <td>...</td>\n",
       "      <td>...</td>\n",
       "      <td>...</td>\n",
       "    </tr>\n",
       "    <tr>\n",
       "      <th>95</th>\n",
       "      <td>wd:Q72954527</td>\n",
       "      <td>Stock-Brunnen</td>\n",
       "      <td>Point(7.6176131 47.5731528)</td>\n",
       "      <td>None</td>\n",
       "      <td>None</td>\n",
       "      <td>None</td>\n",
       "      <td>wd:Q72936279</td>\n",
       "      <td>None</td>\n",
       "      <td>7.617613</td>\n",
       "      <td>47.573153</td>\n",
       "    </tr>\n",
       "    <tr>\n",
       "      <th>96</th>\n",
       "      <td>wd:Q72954550</td>\n",
       "      <td>Pausenhof-Brunnen</td>\n",
       "      <td>Point(7.5924915 47.565687)</td>\n",
       "      <td>None</td>\n",
       "      <td>None</td>\n",
       "      <td>None</td>\n",
       "      <td>wd:Q72936279</td>\n",
       "      <td>None</td>\n",
       "      <td>7.592492</td>\n",
       "      <td>47.565687</td>\n",
       "    </tr>\n",
       "    <tr>\n",
       "      <th>97</th>\n",
       "      <td>wd:Q72954575</td>\n",
       "      <td>Pausenhof-Brunnen</td>\n",
       "      <td>Point(7.6038963 47.5477333)</td>\n",
       "      <td>None</td>\n",
       "      <td>None</td>\n",
       "      <td>None</td>\n",
       "      <td>wd:Q72936279</td>\n",
       "      <td>None</td>\n",
       "      <td>7.603896</td>\n",
       "      <td>47.547733</td>\n",
       "    </tr>\n",
       "    <tr>\n",
       "      <th>98</th>\n",
       "      <td>wd:Q72954599</td>\n",
       "      <td>Pausenhof-Brunnen</td>\n",
       "      <td>Point(7.5707629 47.5626293)</td>\n",
       "      <td>None</td>\n",
       "      <td>None</td>\n",
       "      <td>None</td>\n",
       "      <td>wd:Q72936279</td>\n",
       "      <td>None</td>\n",
       "      <td>7.570763</td>\n",
       "      <td>47.562629</td>\n",
       "    </tr>\n",
       "    <tr>\n",
       "      <th>99</th>\n",
       "      <td>wd:Q72954619</td>\n",
       "      <td>Pausenhof-Brunnen</td>\n",
       "      <td>Point(7.6061949 47.563451)</td>\n",
       "      <td>None</td>\n",
       "      <td>None</td>\n",
       "      <td>None</td>\n",
       "      <td>wd:Q72936279</td>\n",
       "      <td>None</td>\n",
       "      <td>7.606195</td>\n",
       "      <td>47.563451</td>\n",
       "    </tr>\n",
       "  </tbody>\n",
       "</table>\n",
       "<p>100 rows × 10 columns</p>\n",
       "</div>"
      ],
      "text/plain": [
       "           place                        placeLabel  \\\n",
       "0   wd:Q61881745          Allschwilerplatz-Brunnen   \n",
       "1   wd:Q72935373    Brunnen im Bruderholzschulhaus   \n",
       "2   wd:Q72935434                   Sevogel-Brunnen   \n",
       "3   wd:Q72935468           Stachelschützen-Brunnen   \n",
       "4   wd:Q72935495  Brunnen (Seelöwe-Planschbecken )   \n",
       "..           ...                               ...   \n",
       "95  wd:Q72954527                     Stock-Brunnen   \n",
       "96  wd:Q72954550                 Pausenhof-Brunnen   \n",
       "97  wd:Q72954575                 Pausenhof-Brunnen   \n",
       "98  wd:Q72954599                 Pausenhof-Brunnen   \n",
       "99  wd:Q72954619                 Pausenhof-Brunnen   \n",
       "\n",
       "                       location                  date catalog_code  \\\n",
       "0   Point(7.5693423 47.5574918)  1933-01-01T00:00:00Z         None   \n",
       "1    Point(7.595505 47.5309589)                  None         None   \n",
       "2   Point(7.5887686 47.5587034)                  None         None   \n",
       "3    Point(7.5826585 47.558526)                  None         None   \n",
       "4     Point(7.5740674 47.55292)                  None         None   \n",
       "..                          ...                   ...          ...   \n",
       "95  Point(7.6176131 47.5731528)                  None         None   \n",
       "96   Point(7.5924915 47.565687)                  None         None   \n",
       "97  Point(7.6038963 47.5477333)                  None         None   \n",
       "98  Point(7.5707629 47.5626293)                  None         None   \n",
       "99   Point(7.6061949 47.563451)                  None         None   \n",
       "\n",
       "   catalogLabel      operator water_supply_type         X          Y  \n",
       "0          None          None              None  7.569342  47.557492  \n",
       "1          None  wd:Q72936279              None  7.595505  47.530959  \n",
       "2          None  wd:Q72936279              None  7.588769  47.558703  \n",
       "3          None  wd:Q72936279              None  7.582658  47.558526  \n",
       "4          None  wd:Q72936279              None  7.574067  47.552920  \n",
       "..          ...           ...               ...       ...        ...  \n",
       "95         None  wd:Q72936279              None  7.617613  47.573153  \n",
       "96         None  wd:Q72936279              None  7.592492  47.565687  \n",
       "97         None  wd:Q72936279              None  7.603896  47.547733  \n",
       "98         None  wd:Q72936279              None  7.570763  47.562629  \n",
       "99         None  wd:Q72936279              None  7.606195  47.563451  \n",
       "\n",
       "[100 rows x 10 columns]"
      ]
     },
     "execution_count": 28,
     "metadata": {},
     "output_type": "execute_result"
    }
   ],
   "source": [
    "# Extract coordinates from Wikidata results\n",
    "\n",
    "query_result['X'] = query_result['location'].apply(lambda l:float(l.split('(')[1].split(' ')[0]))\n",
    "query_result['Y'] = query_result['location'].apply(lambda l:float(l.split(' ')[1].split(')')[0]))\n",
    "query_result.head(100)"
   ]
  },
  {
   "cell_type": "code",
   "execution_count": 29,
   "metadata": {
    "scrolled": true
   },
   "outputs": [
    {
     "name": "stdout",
     "output_type": "stream",
     "text": [
      "            place                      placeLabel         X          Y\n",
      "0    wd:Q61881745        Allschwilerplatz-Brunnen  7.569342  47.557492\n",
      "16   wd:Q72950812        Allschwilerplatz-Brunnen  7.568971  47.557485\n",
      "254  wd:Q72952227                  Biotop-Brunnen  7.604020  47.547087\n",
      "257  wd:Q72952269                  Biotop-Brunnen  7.583874  47.558209\n",
      "41   wd:Q72951243              Brunnen (Basilisk)  7.588828  47.575791\n",
      "42   wd:Q72951265              Brunnen (Basilisk)  7.593130  47.558946\n",
      "43   wd:Q72951282              Brunnen (Basilisk)  7.588496  47.563151\n",
      "44   wd:Q72951303              Brunnen (Basilisk)  7.586427  47.567261\n",
      "46   wd:Q72951338              Brunnen (Basilisk)  7.574856  47.551436\n",
      "48   wd:Q72951377              Brunnen (Basilisk)  7.592379  47.563197\n",
      "40   wd:Q72951232              Brunnen (Basilisk)  7.591596  47.576851\n",
      "49   wd:Q72951396              Brunnen (Basilisk)  7.602357  47.557118\n",
      "50   wd:Q72951417              Brunnen (Basilisk)  7.583245  47.568577\n",
      "51   wd:Q72951434              Brunnen (Basilisk)  7.573991  47.567982\n",
      "52   wd:Q72951455              Brunnen (Basilisk)  7.576339  47.572400\n",
      "47   wd:Q72951359              Brunnen (Basilisk)  7.561497  47.568291\n",
      "39   wd:Q72951212              Brunnen (Basilisk)  7.592701  47.566649\n",
      "45   wd:Q72951319              Brunnen (Basilisk)  7.601170  47.575122\n",
      "37   wd:Q72951179              Brunnen (Basilisk)  7.582628  47.554279\n",
      "24   wd:Q72950948              Brunnen (Basilisk)  7.587390  47.533786\n",
      "38   wd:Q72951196              Brunnen (Basilisk)  7.580011  47.550931\n",
      "25   wd:Q72950967              Brunnen (Basilisk)  7.571720  47.560455\n",
      "26   wd:Q72950984              Brunnen (Basilisk)  7.588625  47.556574\n",
      "27   wd:Q72951003              Brunnen (Basilisk)  7.597035  47.558276\n",
      "23   wd:Q72950933              Brunnen (Basilisk)  7.597712  47.560565\n",
      "29   wd:Q72951034              Brunnen (Basilisk)  7.598811  47.547857\n",
      "28   wd:Q72951019              Brunnen (Basilisk)  7.569092  47.564369\n",
      "31   wd:Q72951070              Brunnen (Basilisk)  7.606817  47.546448\n",
      "32   wd:Q72951090              Brunnen (Basilisk)  7.594850  47.568648\n",
      "33   wd:Q72951108              Brunnen (Basilisk)  7.597043  47.533288\n",
      "34   wd:Q72951130              Brunnen (Basilisk)  7.608441  47.574199\n",
      "35   wd:Q72951147              Brunnen (Basilisk)  7.606486  47.549583\n",
      "36   wd:Q72951160              Brunnen (Basilisk)  7.585499  47.562179\n",
      "30   wd:Q72951050              Brunnen (Basilisk)  7.597269  47.562003\n",
      "218  wd:Q72951517  Brunnen (Basler Trinkbrünneli)  7.588640  47.570271\n",
      "219  wd:Q72951533  Brunnen (Basler Trinkbrünneli)  7.597350  47.557332\n",
      "220  wd:Q72951546  Brunnen (Basler Trinkbrünneli)  7.594877  47.563486\n",
      "221  wd:Q72951565  Brunnen (Basler Trinkbrünneli)  7.594865  47.551334\n",
      "222  wd:Q72951584  Brunnen (Basler Trinkbrünneli)  7.576047  47.564931\n",
      "223  wd:Q72951601  Brunnen (Basler Trinkbrünneli)  7.572773  47.570946\n",
      "216  wd:Q72951481  Brunnen (Basler Trinkbrünneli)  7.578700  47.571131\n",
      "217  wd:Q72951499  Brunnen (Basler Trinkbrünneli)  7.581725  47.568303\n",
      "238  wd:Q72951840                 Delphin-Brunnen  7.596355  47.549901\n",
      "240  wd:Q72951878                 Delphin-Brunnen  7.604099  47.559947\n",
      "239  wd:Q72951856                 Delphin-Brunnen  7.591620  47.564414\n",
      "270  wd:Q72952473                  Garten-Brunnen  7.591885  47.555383\n",
      "272  wd:Q72952499                  Garten-Brunnen  7.585018  47.558153\n",
      "273  wd:Q72952525                  Garten-Brunnen  7.605817  47.564502\n",
      "297  wd:Q72952940                     Hof-Brunnen  7.586199  47.556067\n",
      "296  wd:Q72952918                     Hof-Brunnen  7.585225  47.558406\n",
      "299  wd:Q72952982                     Hof-Brunnen  7.576854  47.568774\n",
      "298  wd:Q72952961                     Hof-Brunnen  7.586538  47.543219\n",
      "54   wd:Q72953445        Knabe mit Schwan-Brunnen  7.598309  47.564906\n",
      "55   wd:Q72953472        Knabe mit Schwan-Brunnen  7.599135  47.563580\n",
      "76   wd:Q72954045              Marktplatz-Brunnen  7.588038  47.558001\n",
      "77   wd:Q72954071              Marktplatz-Brunnen  7.587767  47.558416\n",
      "78   wd:Q72954099              Marktplatz-Brunnen  7.592540  47.556122\n",
      "90   wd:Q72954403                 Nischen-Brunnen  7.584486  47.556920\n",
      "91   wd:Q72954430                 Nischen-Brunnen  7.589172  47.559044\n",
      "100  wd:Q72954643               Pausenhof-Brunnen  7.625709  47.567125\n",
      "101  wd:Q72954672               Pausenhof-Brunnen  7.568208  47.554330\n",
      "99   wd:Q72954619               Pausenhof-Brunnen  7.606195  47.563451\n",
      "96   wd:Q72954550               Pausenhof-Brunnen  7.592492  47.565687\n",
      "97   wd:Q72954575               Pausenhof-Brunnen  7.603896  47.547733\n",
      "98   wd:Q72954599               Pausenhof-Brunnen  7.570763  47.562629\n",
      "157  wd:Q29684816                  Pisoni-Brunnen  7.591157  47.556629\n",
      "158  wd:Q29684816                  Pisoni-Brunnen  7.591549  47.556685\n",
      "122  wd:Q72955203                 Sammler-Brunnen  7.595620  47.554640\n",
      "160  wd:Q29685295                 Sammler-Brunnen  7.600300  47.554000\n",
      "191  wd:Q72966988               Schlangen-Brunnen  7.596630  47.554742\n",
      "190  wd:Q72966974               Schlangen-Brunnen  7.594672  47.563424\n",
      "129  wd:Q72965535                Schwanen-Brunnen  7.605519  47.552614\n",
      "130  wd:Q72965554                Schwanen-Brunnen  7.608865  47.551885\n",
      "192  wd:Q72967108                Schwanen-Brunnen  7.608865  47.551885\n",
      "193  wd:Q72967140                Schwanen-Brunnen  7.595439  47.565355\n",
      "95   wd:Q72954527                   Stock-Brunnen  7.617613  47.573153\n",
      "197  wd:Q72967400                   Stock-Brunnen  7.591456  47.552050\n",
      "145  wd:Q72965943                    Trog-Brunnen  7.606690  47.564185\n",
      "146  wd:Q72965958                    Trog-Brunnen  7.591001  47.556351\n",
      "201  wd:Q72967592                    Trog-Brunnen  7.606690  47.564185\n",
      "202  wd:Q72967611                    Trog-Brunnen  7.591001  47.556351\n",
      "144  wd:Q72965929                    Trog-Brunnen  7.605811  47.564820\n",
      "200  wd:Q72967566                    Trog-Brunnen  7.605811  47.564820\n",
      "184  wd:Q72966329                    Wand-Brunnen  7.606837  47.574826\n",
      "183  wd:Q72966301                    Wand-Brunnen  7.595705  47.541578\n",
      "182  wd:Q72966283                    Wand-Brunnen  7.585279  47.558635\n",
      "181  wd:Q72966249                    Wand-Brunnen  7.590774  47.556685\n",
      "280  wd:Q72952626             Wasserspiel-Brunnen  7.579080  47.571474\n",
      "282  wd:Q72952658             Wasserspiel-Brunnen  7.593001  47.539091\n",
      "185  wd:Q72966402             Wasserspiel-Brunnen  7.613603  47.548405\n",
      "214  wd:Q72968260                    Zier-Brunnen  7.568004  47.554416\n",
      "284  wd:Q72952691                    Zier-Brunnen  7.581390  47.556531\n",
      "286  wd:Q72952722                    Zier-Brunnen  7.583294  47.556766\n"
     ]
    }
   ],
   "source": [
    "# show duplicates\n",
    "# https://pandas.pydata.org/pandas-docs/stable/reference/api/pandas.DataFrame.duplicated.html#pandas.DataFrame.duplicated\n",
    "\n",
    "ids = query_result['placeLabel']\n",
    "duplicates = query_result[ids.isin(ids[ids.duplicated(keep=False)])]\n",
    "dupli = duplicates.drop(columns=['catalog_code', 'catalogLabel', 'water_supply_type', 'date', 'catalogLabel', 'location', 'operator'])\n",
    "dupli.sort_values(by=['placeLabel'],inplace=True)\n",
    "\n",
    "print(dupli.to_string())"
   ]
  },
  {
   "cell_type": "code",
   "execution_count": 30,
   "metadata": {
    "scrolled": true
   },
   "outputs": [
    {
     "name": "stdout",
     "output_type": "stream",
     "text": [
      "Merge commands\n",
      "['MERGE\\tQ72965554\\tQ72967108\\n', 'MERGE\\tQ72965929\\tQ72967566\\n']\n"
     ]
    }
   ],
   "source": [
    "def createMerge(dupli, extraText):\n",
    "    #Create MERGE Command\n",
    "    linesDup = []\n",
    "    prevQ= \"\"\n",
    "    prevX=0\n",
    "    prevY=0\n",
    "    for index, row in dupli.iterrows():\n",
    "        \n",
    "        # either create new or edit existing entity\n",
    "        if row['X'] == prevX:\n",
    "            if row['Y'] == prevY:\n",
    "                lineDup = \"MERGE\\t\"+prevQ[3:]+\"\\t\"+row['place'][3:]+\"\\n\"\n",
    "                linesDup.append(lineDup)\n",
    "            else:\n",
    "                prevX=row['X']\n",
    "                prevY=row['Y']\n",
    "                prevQ=row['place']\n",
    "        else:\n",
    "            prevX=row['X']\n",
    "            prevY=row['Y']\n",
    "            prevQ=row['place']\n",
    "            \n",
    "    print(\"Merge commands\"+extraText)\n",
    "    print(linesDup)\n",
    "    \n",
    "createMerge(dupli, \"\")    "
   ]
  },
  {
   "cell_type": "code",
   "execution_count": 19,
   "metadata": {},
   "outputs": [
    {
     "name": "stdout",
     "output_type": "stream",
     "text": [
      "wrote 'quickstatement_commands_BS_drink_DUPLI_191101_070225.txt' with 2 lines\n"
     ]
    }
   ],
   "source": [
    "#write MERGE command to File\n",
    "quickStatDupliFileName = \"quickstatement_commands_BS_drink_DUPLI_\"+dt.now().strftime(dtFmt)+\".txt\"\n",
    "with io.open(quickStatDupliFileName, \"w\", encoding='utf8') as f:\n",
    "    f.writelines(linesDup)\n",
    "print(\"wrote '\"+quickStatDupliFileName+\"' with \"+str(len(linesDup))+\" lines\")"
   ]
  },
  {
   "cell_type": "code",
   "execution_count": 25,
   "metadata": {},
   "outputs": [
    {
     "ename": "KeyError",
     "evalue": "('placeLabel', 'X', 'Y')",
     "output_type": "error",
     "traceback": [
      "\u001b[1;31m---------------------------------------------------------------------------\u001b[0m",
      "\u001b[1;31mKeyError\u001b[0m                                  Traceback (most recent call last)",
      "\u001b[1;32mc:\\users\\hauser\\appdata\\local\\programs\\python\\python36\\lib\\site-packages\\pandas\\core\\indexes\\base.py\u001b[0m in \u001b[0;36mget_loc\u001b[1;34m(self, key, method, tolerance)\u001b[0m\n\u001b[0;32m   2896\u001b[0m             \u001b[1;32mtry\u001b[0m\u001b[1;33m:\u001b[0m\u001b[1;33m\u001b[0m\u001b[0m\n\u001b[1;32m-> 2897\u001b[1;33m                 \u001b[1;32mreturn\u001b[0m \u001b[0mself\u001b[0m\u001b[1;33m.\u001b[0m\u001b[0m_engine\u001b[0m\u001b[1;33m.\u001b[0m\u001b[0mget_loc\u001b[0m\u001b[1;33m(\u001b[0m\u001b[0mkey\u001b[0m\u001b[1;33m)\u001b[0m\u001b[1;33m\u001b[0m\u001b[0m\n\u001b[0m\u001b[0;32m   2898\u001b[0m             \u001b[1;32mexcept\u001b[0m \u001b[0mKeyError\u001b[0m\u001b[1;33m:\u001b[0m\u001b[1;33m\u001b[0m\u001b[0m\n",
      "\u001b[1;32mpandas/_libs/index.pyx\u001b[0m in \u001b[0;36mpandas._libs.index.IndexEngine.get_loc\u001b[1;34m()\u001b[0m\n",
      "\u001b[1;32mpandas/_libs/index.pyx\u001b[0m in \u001b[0;36mpandas._libs.index.IndexEngine.get_loc\u001b[1;34m()\u001b[0m\n",
      "\u001b[1;32mpandas/_libs/hashtable_class_helper.pxi\u001b[0m in \u001b[0;36mpandas._libs.hashtable.PyObjectHashTable.get_item\u001b[1;34m()\u001b[0m\n",
      "\u001b[1;32mpandas/_libs/hashtable_class_helper.pxi\u001b[0m in \u001b[0;36mpandas._libs.hashtable.PyObjectHashTable.get_item\u001b[1;34m()\u001b[0m\n",
      "\u001b[1;31mKeyError\u001b[0m: ('placeLabel', 'X', 'Y')",
      "\nDuring handling of the above exception, another exception occurred:\n",
      "\u001b[1;31mKeyError\u001b[0m                                  Traceback (most recent call last)",
      "\u001b[1;32m<ipython-input-25-489233f22307>\u001b[0m in \u001b[0;36m<module>\u001b[1;34m\u001b[0m\n\u001b[0;32m      2\u001b[0m \u001b[1;31m# https://pandas.pydata.org/pandas-docs/stable/reference/api/pandas.DataFrame.duplicated.html#pandas.DataFrame.duplicated\u001b[0m\u001b[1;33m\u001b[0m\u001b[1;33m\u001b[0m\u001b[0m\n\u001b[0;32m      3\u001b[0m \u001b[1;33m\u001b[0m\u001b[0m\n\u001b[1;32m----> 4\u001b[1;33m \u001b[0mids\u001b[0m \u001b[1;33m=\u001b[0m \u001b[0mquery_result\u001b[0m\u001b[1;33m[\u001b[0m\u001b[1;34m'placeLabel'\u001b[0m\u001b[1;33m,\u001b[0m\u001b[1;34m'X'\u001b[0m\u001b[1;33m,\u001b[0m\u001b[1;34m'Y'\u001b[0m\u001b[1;33m]\u001b[0m\u001b[1;33m\u001b[0m\u001b[0m\n\u001b[0m\u001b[0;32m      5\u001b[0m \u001b[0mduplicatesS\u001b[0m \u001b[1;33m=\u001b[0m \u001b[0mquery_result\u001b[0m\u001b[1;33m[\u001b[0m\u001b[0mids\u001b[0m\u001b[1;33m.\u001b[0m\u001b[0misin\u001b[0m\u001b[1;33m(\u001b[0m\u001b[0mids\u001b[0m\u001b[1;33m[\u001b[0m\u001b[0mids\u001b[0m\u001b[1;33m.\u001b[0m\u001b[0mduplicated\u001b[0m\u001b[1;33m(\u001b[0m\u001b[0mkeep\u001b[0m\u001b[1;33m=\u001b[0m\u001b[1;32mFalse\u001b[0m\u001b[1;33m)\u001b[0m\u001b[1;33m]\u001b[0m\u001b[1;33m)\u001b[0m\u001b[1;33m]\u001b[0m\u001b[1;33m\u001b[0m\u001b[0m\n\u001b[0;32m      6\u001b[0m \u001b[0mdupliS\u001b[0m \u001b[1;33m=\u001b[0m \u001b[0mduplicatesS\u001b[0m\u001b[1;33m.\u001b[0m\u001b[0mdrop\u001b[0m\u001b[1;33m(\u001b[0m\u001b[0mcolumns\u001b[0m\u001b[1;33m=\u001b[0m\u001b[1;33m[\u001b[0m\u001b[1;34m'catalog_code'\u001b[0m\u001b[1;33m,\u001b[0m \u001b[1;34m'catalogLabel'\u001b[0m\u001b[1;33m,\u001b[0m \u001b[1;34m'water_supply_type'\u001b[0m\u001b[1;33m,\u001b[0m \u001b[1;34m'date'\u001b[0m\u001b[1;33m,\u001b[0m \u001b[1;34m'catalogLabel'\u001b[0m\u001b[1;33m,\u001b[0m \u001b[1;34m'location'\u001b[0m\u001b[1;33m,\u001b[0m \u001b[1;34m'operator'\u001b[0m\u001b[1;33m]\u001b[0m\u001b[1;33m)\u001b[0m\u001b[1;33m\u001b[0m\u001b[0m\n",
      "\u001b[1;32mc:\\users\\hauser\\appdata\\local\\programs\\python\\python36\\lib\\site-packages\\pandas\\core\\frame.py\u001b[0m in \u001b[0;36m__getitem__\u001b[1;34m(self, key)\u001b[0m\n\u001b[0;32m   2993\u001b[0m             \u001b[1;32mif\u001b[0m \u001b[0mself\u001b[0m\u001b[1;33m.\u001b[0m\u001b[0mcolumns\u001b[0m\u001b[1;33m.\u001b[0m\u001b[0mnlevels\u001b[0m \u001b[1;33m>\u001b[0m \u001b[1;36m1\u001b[0m\u001b[1;33m:\u001b[0m\u001b[1;33m\u001b[0m\u001b[0m\n\u001b[0;32m   2994\u001b[0m                 \u001b[1;32mreturn\u001b[0m \u001b[0mself\u001b[0m\u001b[1;33m.\u001b[0m\u001b[0m_getitem_multilevel\u001b[0m\u001b[1;33m(\u001b[0m\u001b[0mkey\u001b[0m\u001b[1;33m)\u001b[0m\u001b[1;33m\u001b[0m\u001b[0m\n\u001b[1;32m-> 2995\u001b[1;33m             \u001b[0mindexer\u001b[0m \u001b[1;33m=\u001b[0m \u001b[0mself\u001b[0m\u001b[1;33m.\u001b[0m\u001b[0mcolumns\u001b[0m\u001b[1;33m.\u001b[0m\u001b[0mget_loc\u001b[0m\u001b[1;33m(\u001b[0m\u001b[0mkey\u001b[0m\u001b[1;33m)\u001b[0m\u001b[1;33m\u001b[0m\u001b[0m\n\u001b[0m\u001b[0;32m   2996\u001b[0m             \u001b[1;32mif\u001b[0m \u001b[0mis_integer\u001b[0m\u001b[1;33m(\u001b[0m\u001b[0mindexer\u001b[0m\u001b[1;33m)\u001b[0m\u001b[1;33m:\u001b[0m\u001b[1;33m\u001b[0m\u001b[0m\n\u001b[0;32m   2997\u001b[0m                 \u001b[0mindexer\u001b[0m \u001b[1;33m=\u001b[0m \u001b[1;33m[\u001b[0m\u001b[0mindexer\u001b[0m\u001b[1;33m]\u001b[0m\u001b[1;33m\u001b[0m\u001b[0m\n",
      "\u001b[1;32mc:\\users\\hauser\\appdata\\local\\programs\\python\\python36\\lib\\site-packages\\pandas\\core\\indexes\\base.py\u001b[0m in \u001b[0;36mget_loc\u001b[1;34m(self, key, method, tolerance)\u001b[0m\n\u001b[0;32m   2897\u001b[0m                 \u001b[1;32mreturn\u001b[0m \u001b[0mself\u001b[0m\u001b[1;33m.\u001b[0m\u001b[0m_engine\u001b[0m\u001b[1;33m.\u001b[0m\u001b[0mget_loc\u001b[0m\u001b[1;33m(\u001b[0m\u001b[0mkey\u001b[0m\u001b[1;33m)\u001b[0m\u001b[1;33m\u001b[0m\u001b[0m\n\u001b[0;32m   2898\u001b[0m             \u001b[1;32mexcept\u001b[0m \u001b[0mKeyError\u001b[0m\u001b[1;33m:\u001b[0m\u001b[1;33m\u001b[0m\u001b[0m\n\u001b[1;32m-> 2899\u001b[1;33m                 \u001b[1;32mreturn\u001b[0m \u001b[0mself\u001b[0m\u001b[1;33m.\u001b[0m\u001b[0m_engine\u001b[0m\u001b[1;33m.\u001b[0m\u001b[0mget_loc\u001b[0m\u001b[1;33m(\u001b[0m\u001b[0mself\u001b[0m\u001b[1;33m.\u001b[0m\u001b[0m_maybe_cast_indexer\u001b[0m\u001b[1;33m(\u001b[0m\u001b[0mkey\u001b[0m\u001b[1;33m)\u001b[0m\u001b[1;33m)\u001b[0m\u001b[1;33m\u001b[0m\u001b[0m\n\u001b[0m\u001b[0;32m   2900\u001b[0m         \u001b[0mindexer\u001b[0m \u001b[1;33m=\u001b[0m \u001b[0mself\u001b[0m\u001b[1;33m.\u001b[0m\u001b[0mget_indexer\u001b[0m\u001b[1;33m(\u001b[0m\u001b[1;33m[\u001b[0m\u001b[0mkey\u001b[0m\u001b[1;33m]\u001b[0m\u001b[1;33m,\u001b[0m \u001b[0mmethod\u001b[0m\u001b[1;33m=\u001b[0m\u001b[0mmethod\u001b[0m\u001b[1;33m,\u001b[0m \u001b[0mtolerance\u001b[0m\u001b[1;33m=\u001b[0m\u001b[0mtolerance\u001b[0m\u001b[1;33m)\u001b[0m\u001b[1;33m\u001b[0m\u001b[0m\n\u001b[0;32m   2901\u001b[0m         \u001b[1;32mif\u001b[0m \u001b[0mindexer\u001b[0m\u001b[1;33m.\u001b[0m\u001b[0mndim\u001b[0m \u001b[1;33m>\u001b[0m \u001b[1;36m1\u001b[0m \u001b[1;32mor\u001b[0m \u001b[0mindexer\u001b[0m\u001b[1;33m.\u001b[0m\u001b[0msize\u001b[0m \u001b[1;33m>\u001b[0m \u001b[1;36m1\u001b[0m\u001b[1;33m:\u001b[0m\u001b[1;33m\u001b[0m\u001b[0m\n",
      "\u001b[1;32mpandas/_libs/index.pyx\u001b[0m in \u001b[0;36mpandas._libs.index.IndexEngine.get_loc\u001b[1;34m()\u001b[0m\n",
      "\u001b[1;32mpandas/_libs/index.pyx\u001b[0m in \u001b[0;36mpandas._libs.index.IndexEngine.get_loc\u001b[1;34m()\u001b[0m\n",
      "\u001b[1;32mpandas/_libs/hashtable_class_helper.pxi\u001b[0m in \u001b[0;36mpandas._libs.hashtable.PyObjectHashTable.get_item\u001b[1;34m()\u001b[0m\n",
      "\u001b[1;32mpandas/_libs/hashtable_class_helper.pxi\u001b[0m in \u001b[0;36mpandas._libs.hashtable.PyObjectHashTable.get_item\u001b[1;34m()\u001b[0m\n",
      "\u001b[1;31mKeyError\u001b[0m: ('placeLabel', 'X', 'Y')"
     ]
    }
   ],
   "source": [
    "# show duplicates STRICT\n",
    "#idsS = query_result['placeLabel','X','Y'] #this does not work yet\n",
    "#duplicatesS = query_result[ids.isin(ids[ids.duplicated(keep=False)])]\n",
    "#dupliS = duplicatesS.drop(columns=['catalog_code', 'catalogLabel', 'water_supply_type', 'date', 'catalogLabel', 'location', 'operator'])\n",
    "#dupliS.sort_values(by=['placeLabel'],inplace=True)\n",
    "#print(dupliS.to_string())\n",
    "#createMerge(dupliS, \" - strict\")  "
   ]
  },
  {
   "cell_type": "code",
   "execution_count": null,
   "metadata": {
    "scrolled": true
   },
   "outputs": [],
   "source": [
    "# remove duplicate entries\n",
    "\n",
    "# duplicate entries are caused when e.g. a fountain has catalog codes from two catalogs\n",
    "query_result = query_result.drop_duplicates('place')\n",
    "print(\"\\n\\nTotal number of rows without duplicates \"+str(query_result.size))"
   ]
  },
  {
   "cell_type": "markdown",
   "metadata": {},
   "source": [
    "### Compute distances between fountains"
   ]
  },
  {
   "cell_type": "code",
   "execution_count": null,
   "metadata": {
    "scrolled": true
   },
   "outputs": [],
   "source": [
    "# helper function to compute distances on the globe, returns distances in meters\n",
    "def spherical_dist(pos1, pos2, r=6371000):\n",
    "    pos1 = pos1 * np.pi / 180\n",
    "    pos2 = pos2 * np.pi / 180\n",
    "    cos_lat1 = np.cos(pos1[..., 0])\n",
    "    cos_lat2 = np.cos(pos2[..., 0])\n",
    "    cos_lat_d = np.cos(pos1[..., 0] - pos2[..., 0])\n",
    "    cos_lon_d = np.cos(pos1[..., 1] - pos2[..., 1])\n",
    "    return r * np.arccos(cos_lat_d - cos_lat1 * cos_lat2 * (1 - cos_lon_d))\n",
    "\n",
    "\n",
    "# compute distances from each ODZ fountain to each Wikidata fountain\n",
    "distances = spherical_dist(df[['X','Y']].values[:, None], query_result[['X','Y']].values)"
   ]
  },
  {
   "cell_type": "markdown",
   "metadata": {},
   "source": [
    "### Identify nearest and second nearest matches for each OpenData.swiss basel fountain"
   ]
  },
  {
   "cell_type": "code",
   "execution_count": null,
   "metadata": {
    "scrolled": true
   },
   "outputs": [],
   "source": [
    "# indexes of nearest fountains\n",
    "nearest_idx = np.argmin(distances, axis=1).tolist()\n",
    "\n",
    "# QID of nearest fountains\n",
    "df['nearest_qid'] = query_result.iloc[nearest_idx]['place'].apply(lambda id:id[3:]).tolist()\n",
    "\n",
    "# distance to nearest fountain\n",
    "df['nearest_distance'] = np.min(distances, axis=1).tolist()\n",
    "\n",
    "\n",
    "# then remove nearest\n",
    "i_line=0\n",
    "for i_col in nearest_idx:\n",
    "    distances[i_line, i_col] = 100000\n",
    "    i_line += 1\n",
    "# find distance to second nearest\n",
    "df['2nd_nearest_distance'] = np.min(distances, axis=1).tolist()\n",
    "\n",
    "df.head(100)"
   ]
  },
  {
   "cell_type": "markdown",
   "metadata": {},
   "source": [
    "### Find out what information already exists for the nearest fountains"
   ]
  },
  {
   "cell_type": "code",
   "execution_count": null,
   "metadata": {},
   "outputs": [],
   "source": [
    "# does nearest have label in german?\n",
    "df['nearest_has_label_de'] = (query_result.iloc[nearest_idx]['place'].apply(lambda p:p[3:]) != query_result.iloc[nearest_idx]['placeLabel']).tolist()\n",
    "\n",
    "# does nearest have date?\n",
    "df['nearest_has_date'] = query_result.iloc[nearest_idx]['date'].apply(lambda d:d is not None).tolist()\n",
    "\n",
    "# does nearest have operator?\n",
    "df['nearest_has_operator'] = query_result.iloc[nearest_idx]['operator'].apply(lambda id:id is not None).tolist()\n",
    "\n",
    "# does nearest have catalog code?\n",
    "df['nearest_has_code'] = query_result.iloc[nearest_idx]['catalog_code'].apply(lambda id:id is not None).tolist()\n",
    "\n",
    "# does nearest have water type?\n",
    "df['nearest_has_water_type'] = query_result.iloc[nearest_idx]['water_supply_type'].apply(lambda id:id is not None).tolist()"
   ]
  },
  {
   "cell_type": "markdown",
   "metadata": {},
   "source": [
    "### Decide on whether nearest fountain should be considered a match"
   ]
  },
  {
   "cell_type": "code",
   "execution_count": null,
   "metadata": {},
   "outputs": [],
   "source": [
    "# The nearest fountain is a match if: \n",
    "# - no further than x m away\n",
    "# - 2nd nearest fountain at nearest least ratio_min further away than the nearest fountain\n",
    "def validate_proposal(qid, d1, d2, dmax=10, ratio_min=0.5):\n",
    "    \n",
    "    if d1 == 0 or (d1<=dmax and d2/d1-1 >= ratio_min):\n",
    "        return 'match'\n",
    "    elif d1<=dmax and d2/d1-1 < ratio_min:\n",
    "        return 'unclear'\n",
    "    else:\n",
    "        return 'no match'\n",
    "    \n",
    "for index, row in df.iterrows():\n",
    "    df.loc[index, 'match_found'] = validate_proposal(\n",
    "        row['nearest_qid'], \n",
    "        row['nearest_distance'], \n",
    "        row['2nd_nearest_distance'],\n",
    "        dmax=15\n",
    "    )\n",
    "dffinal = df.drop(columns=['nearest_distance', '2nd_nearest_distance'])"
   ]
  },
  {
   "cell_type": "code",
   "execution_count": null,
   "metadata": {
    "scrolled": false
   },
   "outputs": [],
   "source": [
    "dffinal.head()"
   ]
  },
  {
   "cell_type": "code",
   "execution_count": null,
   "metadata": {},
   "outputs": [],
   "source": [
    "print(\"\\n\\nTotal number of rows \"+str(dffinal.size))"
   ]
  },
  {
   "cell_type": "markdown",
   "metadata": {},
   "source": [
    "## Create Quickstatement commands from data\n",
    "### Helper functions to format content according to Quickstatements v1 syntax"
   ]
  },
  {
   "cell_type": "code",
   "execution_count": null,
   "metadata": {},
   "outputs": [],
   "source": [
    "def process_coordinates(x, y):\n",
    "    # format geographic coordinates\n",
    "    return '@{1:1.8f}/{0:1.8f}'.format(x,y)\n",
    "\n",
    "\n",
    "def process_year(date):\n",
    "    # format date\n",
    "    if np.isnan(date):\n",
    "        return ''\n",
    "    else:\n",
    "        return '+{0:4d}-00-00T00:00:00Z/9'.format(int(date))\n",
    "\n",
    "    \n",
    "fountain_type_map = {\n",
    "    'öffentlicher Brunnen': 'Q53628296',\n",
    "    'Notwasserbrunnen': 'Q53628522',\n",
    "    'privater Brunnen': 'Q53629707',\n",
    "    'Brunnen in städtischer Liegenschaft': 'Q53628618',\n",
    "    'Brunnen des Verschönerungsvereins': 'Q53628761',\n",
    "    'Brunnen mit eigener Versorgung': 'Q53630002'\n",
    "}\n",
    "\n",
    "water_type_map = {\n",
    "    'Verteilnetz': 'Q53633635',\n",
    "    'Quellwasser': 'Q1881858',\n",
    "    'eigene Versorgung': 'Q53634173',\n",
    "    'Grundwasser': 'Q161598'\n",
    "}\n",
    "\n",
    "def process_fountain_type(type):\n",
    "    # translate fountain types to wikidata values\n",
    "    return fountain_type_map[type]\n",
    "\n",
    "\n",
    "def process_water_type(type):\n",
    "    # translate water types to wikidata values\n",
    "    return water_type_map[type]\n",
    "\n",
    "\n",
    "def process_label_de(text):\n",
    "    # process German language labels\n",
    "    if text is None:\n",
    "        return ''\n",
    "    elif 'brunnen' in text.lower():\n",
    "        return '\"{}\"'.format(text)\n",
    "    else:\n",
    "        return '\"Brunnen ({})\"'.format(text)\n",
    "    \n",
    "\n",
    "def createline(lines, item, prop, value, qualifiers=[]):\n",
    "    # general function to create Quickstatement v1 commands\n",
    "    if value != '' and value != '\"\"':\n",
    "        statement = '{}\\t{}\\t{}'.format(item, prop, value)\n",
    "        if len(qualifiers):\n",
    "            # append qualifiers if applicable\n",
    "            for q in qualifiers:\n",
    "                statement += '\\t{}\\t{}'.format(q['prop'], q['value'])\n",
    "        statement += '\\n'\n",
    "        lines.append(statement)\n",
    "    return lines"
   ]
  },
  {
   "cell_type": "markdown",
   "metadata": {},
   "source": [
    "### Create statements, taking care not to overwrite existing data"
   ]
  },
  {
   "cell_type": "code",
   "execution_count": null,
   "metadata": {},
   "outputs": [],
   "source": [
    "# initialize command storage list\n",
    "lines = []\n",
    "\n",
    "for index, row in dffinal.iterrows():\n",
    "    \n",
    "    # either create new or edit existing entity\n",
    "    if row['match_found'] == 'no match':\n",
    "        # create a new fountain\n",
    "        lines.append('CREATE\\n')\n",
    "        item = 'LAST'\n",
    "    elif row['match_found'] == 'unclear':\n",
    "        print('unclear match')\n",
    "        print(row)\n",
    "        continue\n",
    "    elif row['match_found'] == 'match':\n",
    "        # update existing fountain\n",
    "        item = row['nearest_qid']\n",
    "        \n",
    "        \n",
    "    # Add this basic information only if creating a new entity\n",
    "    if item == 'LAST':\n",
    "        # instance of drinking fountain\n",
    "        lines = createline(lines, item, 'P31', 'Q1630622')\n",
    "\n",
    "        # coordinates\n",
    "        lines = createline(lines, item, 'P625', process_coordinates(row['X'], row['Y']))\n",
    "        \n",
    "        # TODO put reference \"https://opendata.swiss/dataset/bade-trinkwasser-und-zierbrunnen-in-basel\"\n",
    "        \n",
    "        \n",
    "    # For other properties, add information if the entity is new or if property does not yet exist\n",
    "    \n",
    "    # label in german\n",
    "    if item == 'LAST' or not row['nearest_has_label_de']:\n",
    "        lines = createline(lines, item, 'Lde', process_label_de(row['label_de']))\n",
    "    \n",
    "    # creation date\n",
    "    #if item == 'LAST' or not row['nearest_has_date']:\n",
    "    #    lines = createline(lines, item, 'P571', process_year(row['date']))\n",
    "\n",
    "    # operated by IWB  \n",
    "    lines = createline(lines, item, 'P137', 'Q72936279')\n",
    "            \n",
    "    # catalog number can always be added (it is hard to check for)\n",
    "    #lines = createline(lines, item, 'P528', '\"{}\"'.format(row['operator_id']), [{\n",
    "    #    'prop': 'P972',\n",
    "    #    'value': 'Q53629101'\n",
    "    #}])"
   ]
  },
  {
   "cell_type": "markdown",
   "metadata": {},
   "source": [
    "# Write commands to file"
   ]
  },
  {
   "cell_type": "code",
   "execution_count": null,
   "metadata": {
    "scrolled": true
   },
   "outputs": [],
   "source": [
    "quickStatFileName = \"quickstatement_commands_BS_drink_\"+dt.now().strftime(dtFmt)+\".txt\"\n",
    "with io.open(quickStatFileName, \"w\", encoding='utf8') as f:\n",
    "    f.writelines(lines)\n",
    "print(\"wrote '\"+quickStatFileName+\"' with \"+str(len(lines))+\" lines\")"
   ]
  },
  {
   "cell_type": "markdown",
   "metadata": {},
   "source": [
    "# Import into Wikidata\n",
    "- Go to https://tools.wmflabs.org/wikidata-todo/quick_statements.php.\n",
    "- Authenticate yourself with your Wikidata account.\n",
    "- Copy and paste the contents of quickstatement_commands*.txt into the blank field, and run the commands"
   ]
  },
  {
   "cell_type": "markdown",
   "metadata": {},
   "source": [
    "see ../20191030_1600_import.png\n",
    "\n",
    "...\n",
    "58. Processing Q72935495 (Q72935495 Lde \"Brunnen (Seelöwe-Planschbecken )\")\n",
    "59. Processing Q72935495 (Q72935495 P137 Q27229237)\n",
    "\n",
    "All done!."
   ]
  }
 ],
 "metadata": {
  "kernelspec": {
   "display_name": "Python 3",
   "language": "python",
   "name": "python3"
  },
  "language_info": {
   "codemirror_mode": {
    "name": "ipython",
    "version": 3
   },
   "file_extension": ".py",
   "mimetype": "text/x-python",
   "name": "python",
   "nbconvert_exporter": "python",
   "pygments_lexer": "ipython3",
   "version": "3.6.5"
  }
 },
 "nbformat": 4,
 "nbformat_minor": 2
}
