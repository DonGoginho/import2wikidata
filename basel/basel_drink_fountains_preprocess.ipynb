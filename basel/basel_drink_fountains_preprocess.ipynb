{
 "cells": [
  {
   "cell_type": "markdown",
   "metadata": {},
   "source": [
    "# Automatic import of Basel drinking fountains data to Wikidata\n",
    "The following script downloads fountain data from Open Data swiss as per https://github.com/water-fountains/import2wikidata/issues/12, compares it to existing fountains in Wikidata for the same region, and creates Wikidata Quickstatement commands to complete the entries in Wikidata. New entities are created if no matching fountains are found."
   ]
  },
  {
   "cell_type": "markdown",
   "metadata": {},
   "source": [
    "## Initialize environment"
   ]
  },
  {
   "cell_type": "code",
   "execution_count": 1,
   "metadata": {},
   "outputs": [
    {
     "name": "stdout",
     "output_type": "stream",
     "text": [
      "191030_195958\n",
      "Python v 3.6.5\n"
     ]
    }
   ],
   "source": [
    "from datetime import datetime as dt\n",
    "dtFmt = \"%y%m%d_%H%M%S\"\n",
    "print (dt.now().strftime(dtFmt))\n",
    "import pandas as pd\n",
    "import io\n",
    "import numpy as np\n",
    "from urllib.request import urlopen\n",
    "import json\n",
    "from math import *\n",
    "from platform import python_version\n",
    "print(\"Python v \"+python_version())\n",
    "#https://github.com/paulhoule/gastrodon/issues/7 \n",
    "from gastrodon import RemoteEndpoint,QName,ttl,URIRef,inline\n",
    "from matplotlib import pyplot\n"
   ]
  },
  {
   "cell_type": "code",
   "execution_count": 2,
   "metadata": {},
   "outputs": [],
   "source": [
    "#@prefix wikibase: <wikibase: <http://wikiba.se/ontology#> .\n",
    "prefixes=inline(\"\"\"\n",
    "   @prefix wd: <http://www.wikidata.org/entity/> .\n",
    "   @prefix wdt: <http://www.wikidata.org/prop/direct/> .\n",
    "   @prefix rdf: <http://www.w3.org/1999/02/22-rdf-syntax-ns#> .\n",
    "   @prefix rdfs: <http://www.w3.org/2000/01/rdf-schema#> .\n",
    "\"\"\").graph\n",
    "endpoint=RemoteEndpoint(\n",
    "   \"http://query.wikidata.org/sparql\"\n",
    "   ,prefixes=prefixes\n",
    ")"
   ]
  },
  {
   "cell_type": "markdown",
   "metadata": {},
   "source": [
    "## Load data"
   ]
  },
  {
   "cell_type": "code",
   "execution_count": 3,
   "metadata": {},
   "outputs": [],
   "source": [
    "df = pd.read_csv(\"data/Trinkbrunnen.csv\")"
   ]
  },
  {
   "cell_type": "code",
   "execution_count": 4,
   "metadata": {},
   "outputs": [
    {
     "data": {
      "text/html": [
       "<div>\n",
       "<style scoped>\n",
       "    .dataframe tbody tr th:only-of-type {\n",
       "        vertical-align: middle;\n",
       "    }\n",
       "\n",
       "    .dataframe tbody tr th {\n",
       "        vertical-align: top;\n",
       "    }\n",
       "\n",
       "    .dataframe thead th {\n",
       "        text-align: right;\n",
       "    }\n",
       "</style>\n",
       "<table border=\"1\" class=\"dataframe\">\n",
       "  <thead>\n",
       "    <tr style=\"text-align: right;\">\n",
       "      <th></th>\n",
       "      <th>X</th>\n",
       "      <th>Y</th>\n",
       "      <th>Name</th>\n",
       "      <th>Description</th>\n",
       "    </tr>\n",
       "  </thead>\n",
       "  <tbody>\n",
       "    <tr>\n",
       "      <th>0</th>\n",
       "      <td>7.629450</td>\n",
       "      <td>47.562891</td>\n",
       "      <td>Äänisbreetli-Brunnen</td>\n",
       "      <td>&lt;img src=\"https://doc-04-24-mymaps.googleuserc...</td>\n",
       "    </tr>\n",
       "    <tr>\n",
       "      <th>1</th>\n",
       "      <td>7.597086</td>\n",
       "      <td>47.558396</td>\n",
       "      <td>Achteck-Brunnen</td>\n",
       "      <td>&lt;img src=\"https://doc-0s-24-mymaps.googleuserc...</td>\n",
       "    </tr>\n",
       "    <tr>\n",
       "      <th>2</th>\n",
       "      <td>7.593189</td>\n",
       "      <td>47.550235</td>\n",
       "      <td>Aeschengraben-Brunnen</td>\n",
       "      <td>&lt;img src=\"https://doc-00-24-mymaps.googleuserc...</td>\n",
       "    </tr>\n",
       "    <tr>\n",
       "      <th>3</th>\n",
       "      <td>7.586400</td>\n",
       "      <td>47.558155</td>\n",
       "      <td>Affen-Brunnen</td>\n",
       "      <td>&lt;img src=\"https://doc-0g-24-mymaps.googleuserc...</td>\n",
       "    </tr>\n",
       "    <tr>\n",
       "      <th>4</th>\n",
       "      <td>7.593095</td>\n",
       "      <td>47.554276</td>\n",
       "      <td>Affen-Brunnen</td>\n",
       "      <td>&lt;img src=\"https://doc-0g-24-mymaps.googleuserc...</td>\n",
       "    </tr>\n",
       "  </tbody>\n",
       "</table>\n",
       "</div>"
      ],
      "text/plain": [
       "          X          Y                   Name  \\\n",
       "0  7.629450  47.562891   Äänisbreetli-Brunnen   \n",
       "1  7.597086  47.558396        Achteck-Brunnen   \n",
       "2  7.593189  47.550235  Aeschengraben-Brunnen   \n",
       "3  7.586400  47.558155          Affen-Brunnen   \n",
       "4  7.593095  47.554276          Affen-Brunnen   \n",
       "\n",
       "                                         Description  \n",
       "0  <img src=\"https://doc-04-24-mymaps.googleuserc...  \n",
       "1  <img src=\"https://doc-0s-24-mymaps.googleuserc...  \n",
       "2  <img src=\"https://doc-00-24-mymaps.googleuserc...  \n",
       "3  <img src=\"https://doc-0g-24-mymaps.googleuserc...  \n",
       "4  <img src=\"https://doc-0g-24-mymaps.googleuserc...  "
      ]
     },
     "execution_count": 4,
     "metadata": {},
     "output_type": "execute_result"
    }
   ],
   "source": [
    "df.head()"
   ]
  },
  {
   "cell_type": "markdown",
   "metadata": {},
   "source": [
    "### Rename columns to make them easier to work with"
   ]
  },
  {
   "cell_type": "code",
   "execution_count": 5,
   "metadata": {
    "scrolled": true
   },
   "outputs": [],
   "source": [
    "\n",
    "# remove not needed columns\n",
    "df = df.drop(columns=['Description'])\n",
    "# rename columns\n",
    "df = df.rename(index=str, columns=\n",
    "               {\"Name\": \"label_de\"})"
   ]
  },
  {
   "cell_type": "markdown",
   "metadata": {},
   "source": [
    "## Identify already existing fountains\n",
    "### Query fountains from Wikidata"
   ]
  },
  {
   "cell_type": "code",
   "execution_count": 6,
   "metadata": {},
   "outputs": [],
   "source": [
    "# Find the geographic extent of the data\n",
    "\n",
    "buffer = 0.0003  # in degrees, corresponds to about 20-30 meters)\n",
    "bounds = {\n",
    "    'minX': df['X'].min() - buffer,\n",
    "    'minY': df['Y'].min() - buffer,\n",
    "    'maxX': df['X'].max() + buffer,\n",
    "    'maxY': df['Y'].max() + buffer\n",
    "}"
   ]
  },
  {
   "cell_type": "code",
   "execution_count": 7,
   "metadata": {},
   "outputs": [],
   "source": [
    "# Query fountains (both water wells and fountains) from Wikidata within bounding box found above\n",
    "\n",
    "query_string = \"\"\" SELECT ?place ?placeLabel ?location ?date ?catalog_code ?catalogLabel ?operator ?water_supply_type\n",
    "WHERE\n",
    "{{\n",
    "  # Enter coordinates\n",
    "  SERVICE wikibase:box {{\n",
    "    ?place wdt:P625 ?location .\n",
    "    bd:serviceParam wikibase:cornerWest \"Point({minX} {minY})\"^^geo:wktLiteral.\n",
    "    bd:serviceParam wikibase:cornerEast \"Point({maxX} {maxY})\"^^geo:wktLiteral.\n",
    "  }} .\n",
    "  # Is a water well or fountain or subclass of fountain\n",
    "  FILTER (EXISTS {{ ?place wdt:P31/wdt:P279* wd:Q43483 }} || EXISTS {{ ?place wdt:P31/wdt:P279* wd:Q483453 }}).\n",
    "  SERVICE wikibase:label {{\n",
    "    bd:serviceParam wikibase:language \"[AUTO_LANGUAGE],de\" .\n",
    "  }} \n",
    "  OPTIONAL {{ ?place p:P528 ?catalog_code.\n",
    "            ?catalog_code pq:P972 ?catalog.}}\n",
    "  OPTIONAL {{ ?place wdt:P571 ?date.}}\n",
    "  OPTIONAL {{ ?place wdt:P5623 ?water_supply_type}}\n",
    "  OPTIONAL {{ ?place wdt:P137 ?operator.}}\n",
    "}}\n",
    "  \"\"\".format(**bounds)\n",
    "\n",
    "# Perform query\n",
    "query_result = endpoint.select(query_string)"
   ]
  },
  {
   "cell_type": "code",
   "execution_count": 8,
   "metadata": {},
   "outputs": [
    {
     "name": "stdout",
     "output_type": "stream",
     "text": [
      " SELECT ?place ?placeLabel ?location ?date ?catalog_code ?catalogLabel ?operator ?water_supply_type\n",
      "WHERE\n",
      "{\n",
      "  # Enter coordinates\n",
      "  SERVICE wikibase:box {\n",
      "    ?place wdt:P625 ?location .\n",
      "    bd:serviceParam wikibase:cornerWest \"Point(7.5570532 47.5279767)\"^^geo:wktLiteral.\n",
      "    bd:serviceParam wikibase:cornerEast \"Point(7.630431 47.5840738)\"^^geo:wktLiteral.\n",
      "  } .\n",
      "  # Is a water well or fountain or subclass of fountain\n",
      "  FILTER (EXISTS { ?place wdt:P31/wdt:P279* wd:Q43483 } || EXISTS { ?place wdt:P31/wdt:P279* wd:Q483453 }).\n",
      "  SERVICE wikibase:label {\n",
      "    bd:serviceParam wikibase:language \"[AUTO_LANGUAGE],de\" .\n",
      "  } \n",
      "  OPTIONAL { ?place p:P528 ?catalog_code.\n",
      "            ?catalog_code pq:P972 ?catalog.}\n",
      "  OPTIONAL { ?place wdt:P571 ?date.}\n",
      "  OPTIONAL { ?place wdt:P5623 ?water_supply_type}\n",
      "  OPTIONAL { ?place wdt:P137 ?operator.}\n",
      "}\n",
      "  \n",
      "\n",
      "\n",
      "Total number of rows incl. duplicates 424\n"
     ]
    }
   ],
   "source": [
    "print(query_string)\n",
    "print(\"\\n\\nTotal number of rows incl. duplicates \"+str(query_result.size))"
   ]
  },
  {
   "cell_type": "markdown",
   "metadata": {},
   "source": [
    "### Tidy up data"
   ]
  },
  {
   "cell_type": "code",
   "execution_count": 9,
   "metadata": {},
   "outputs": [],
   "source": [
    "# Extract coordinates from Wikidata results\n",
    "\n",
    "query_result['X'] = query_result['location'].apply(lambda l:float(l.split('(')[1].split(' ')[0]))\n",
    "query_result['Y'] = query_result['location'].apply(lambda l:float(l.split(' ')[1].split(')')[0]))"
   ]
  },
  {
   "cell_type": "code",
   "execution_count": 10,
   "metadata": {
    "scrolled": true
   },
   "outputs": [],
   "source": [
    "# remove duplicate entries\n",
    "\n",
    "# duplicate entries are caused when e.g. a fountain has catalog codes from two catalogs\n",
    "query_result = query_result.drop_duplicates('place')"
   ]
  },
  {
   "cell_type": "markdown",
   "metadata": {},
   "source": [
    "### Compute distances between fountains"
   ]
  },
  {
   "cell_type": "code",
   "execution_count": 11,
   "metadata": {
    "scrolled": true
   },
   "outputs": [],
   "source": [
    "# helper function to compute distances on the globe, returns distances in meters\n",
    "def spherical_dist(pos1, pos2, r=6371000):\n",
    "    pos1 = pos1 * np.pi / 180\n",
    "    pos2 = pos2 * np.pi / 180\n",
    "    cos_lat1 = np.cos(pos1[..., 0])\n",
    "    cos_lat2 = np.cos(pos2[..., 0])\n",
    "    cos_lat_d = np.cos(pos1[..., 0] - pos2[..., 0])\n",
    "    cos_lon_d = np.cos(pos1[..., 1] - pos2[..., 1])\n",
    "    return r * np.arccos(cos_lat_d - cos_lat1 * cos_lat2 * (1 - cos_lon_d))\n",
    "\n",
    "\n",
    "# compute distances from each ODZ fountain to each Wikidata fountain\n",
    "distances = spherical_dist(df[['X','Y']].values[:, None], query_result[['X','Y']].values)"
   ]
  },
  {
   "cell_type": "markdown",
   "metadata": {},
   "source": [
    "### Identify nearest and second nearest matches for each OpenData.swiss basel fountain"
   ]
  },
  {
   "cell_type": "code",
   "execution_count": 12,
   "metadata": {
    "scrolled": true
   },
   "outputs": [
    {
     "data": {
      "text/html": [
       "<div>\n",
       "<style scoped>\n",
       "    .dataframe tbody tr th:only-of-type {\n",
       "        vertical-align: middle;\n",
       "    }\n",
       "\n",
       "    .dataframe tbody tr th {\n",
       "        vertical-align: top;\n",
       "    }\n",
       "\n",
       "    .dataframe thead th {\n",
       "        text-align: right;\n",
       "    }\n",
       "</style>\n",
       "<table border=\"1\" class=\"dataframe\">\n",
       "  <thead>\n",
       "    <tr style=\"text-align: right;\">\n",
       "      <th></th>\n",
       "      <th>X</th>\n",
       "      <th>Y</th>\n",
       "      <th>label_de</th>\n",
       "      <th>nearest_qid</th>\n",
       "      <th>nearest_distance</th>\n",
       "      <th>2nd_nearest_distance</th>\n",
       "    </tr>\n",
       "  </thead>\n",
       "  <tbody>\n",
       "    <tr>\n",
       "      <th>0</th>\n",
       "      <td>7.629450</td>\n",
       "      <td>47.562891</td>\n",
       "      <td>Äänisbreetli-Brunnen</td>\n",
       "      <td>Q72935444</td>\n",
       "      <td>2231.463708</td>\n",
       "      <td>2231.463708</td>\n",
       "    </tr>\n",
       "    <tr>\n",
       "      <th>1</th>\n",
       "      <td>7.597086</td>\n",
       "      <td>47.558396</td>\n",
       "      <td>Achteck-Brunnen</td>\n",
       "      <td>Q29686146</td>\n",
       "      <td>47.437545</td>\n",
       "      <td>144.769730</td>\n",
       "    </tr>\n",
       "    <tr>\n",
       "      <th>2</th>\n",
       "      <td>7.593189</td>\n",
       "      <td>47.550235</td>\n",
       "      <td>Aeschengraben-Brunnen</td>\n",
       "      <td>Q29684386</td>\n",
       "      <td>89.252207</td>\n",
       "      <td>307.441671</td>\n",
       "    </tr>\n",
       "    <tr>\n",
       "      <th>3</th>\n",
       "      <td>7.586400</td>\n",
       "      <td>47.558155</td>\n",
       "      <td>Affen-Brunnen</td>\n",
       "      <td>Q29682299</td>\n",
       "      <td>12.196138</td>\n",
       "      <td>105.146532</td>\n",
       "    </tr>\n",
       "    <tr>\n",
       "      <th>4</th>\n",
       "      <td>7.593095</td>\n",
       "      <td>47.554276</td>\n",
       "      <td>Affen-Brunnen</td>\n",
       "      <td>Q29686307</td>\n",
       "      <td>145.133872</td>\n",
       "      <td>254.251546</td>\n",
       "    </tr>\n",
       "    <tr>\n",
       "      <th>...</th>\n",
       "      <td>...</td>\n",
       "      <td>...</td>\n",
       "      <td>...</td>\n",
       "      <td>...</td>\n",
       "      <td>...</td>\n",
       "      <td>...</td>\n",
       "    </tr>\n",
       "    <tr>\n",
       "      <th>95</th>\n",
       "      <td>7.585018</td>\n",
       "      <td>47.558153</td>\n",
       "      <td>Garten-Brunnen</td>\n",
       "      <td>Q29684735</td>\n",
       "      <td>89.403499</td>\n",
       "      <td>142.701143</td>\n",
       "    </tr>\n",
       "    <tr>\n",
       "      <th>96</th>\n",
       "      <td>7.605817</td>\n",
       "      <td>47.564502</td>\n",
       "      <td>Garten-Brunnen</td>\n",
       "      <td>Q72935444</td>\n",
       "      <td>807.775247</td>\n",
       "      <td>807.775247</td>\n",
       "    </tr>\n",
       "    <tr>\n",
       "      <th>97</th>\n",
       "      <td>7.569569</td>\n",
       "      <td>47.547150</td>\n",
       "      <td>Geissen-Brunnen</td>\n",
       "      <td>Q72935420</td>\n",
       "      <td>707.760723</td>\n",
       "      <td>707.760723</td>\n",
       "    </tr>\n",
       "    <tr>\n",
       "      <th>98</th>\n",
       "      <td>7.588507</td>\n",
       "      <td>47.582759</td>\n",
       "      <td>Gelpke-Brunnen</td>\n",
       "      <td>Q72935455</td>\n",
       "      <td>1369.649201</td>\n",
       "      <td>1369.649201</td>\n",
       "    </tr>\n",
       "    <tr>\n",
       "      <th>99</th>\n",
       "      <td>7.564766</td>\n",
       "      <td>47.546967</td>\n",
       "      <td>Geniesser-Brunnen</td>\n",
       "      <td>Q72935495</td>\n",
       "      <td>1224.928612</td>\n",
       "      <td>1224.928612</td>\n",
       "    </tr>\n",
       "  </tbody>\n",
       "</table>\n",
       "<p>100 rows × 6 columns</p>\n",
       "</div>"
      ],
      "text/plain": [
       "           X          Y               label_de nearest_qid  nearest_distance  \\\n",
       "0   7.629450  47.562891   Äänisbreetli-Brunnen   Q72935444       2231.463708   \n",
       "1   7.597086  47.558396        Achteck-Brunnen   Q29686146         47.437545   \n",
       "2   7.593189  47.550235  Aeschengraben-Brunnen   Q29684386         89.252207   \n",
       "3   7.586400  47.558155          Affen-Brunnen   Q29682299         12.196138   \n",
       "4   7.593095  47.554276          Affen-Brunnen   Q29686307        145.133872   \n",
       "..       ...        ...                    ...         ...               ...   \n",
       "95  7.585018  47.558153         Garten-Brunnen   Q29684735         89.403499   \n",
       "96  7.605817  47.564502         Garten-Brunnen   Q72935444        807.775247   \n",
       "97  7.569569  47.547150       Geissen-Brunnen    Q72935420        707.760723   \n",
       "98  7.588507  47.582759         Gelpke-Brunnen   Q72935455       1369.649201   \n",
       "99  7.564766  47.546967      Geniesser-Brunnen   Q72935495       1224.928612   \n",
       "\n",
       "    2nd_nearest_distance  \n",
       "0            2231.463708  \n",
       "1             144.769730  \n",
       "2             307.441671  \n",
       "3             105.146532  \n",
       "4             254.251546  \n",
       "..                   ...  \n",
       "95            142.701143  \n",
       "96            807.775247  \n",
       "97            707.760723  \n",
       "98           1369.649201  \n",
       "99           1224.928612  \n",
       "\n",
       "[100 rows x 6 columns]"
      ]
     },
     "execution_count": 12,
     "metadata": {},
     "output_type": "execute_result"
    }
   ],
   "source": [
    "# indexes of nearest fountains\n",
    "nearest_idx = np.argmin(distances, axis=1).tolist()\n",
    "\n",
    "# QID of nearest fountains\n",
    "df['nearest_qid'] = query_result.iloc[nearest_idx]['place'].apply(lambda id:id[3:]).tolist()\n",
    "\n",
    "# distance to nearest fountain\n",
    "df['nearest_distance'] = np.min(distances, axis=1).tolist()\n",
    "\n",
    "\n",
    "# then remove nearest\n",
    "i_line=0\n",
    "for i_col in nearest_idx:\n",
    "    distances[i_line, i_col] = 100000\n",
    "    i_line += 1\n",
    "# find distance to second nearest\n",
    "df['2nd_nearest_distance'] = np.min(distances, axis=1).tolist()\n",
    "\n",
    "df.head(100)"
   ]
  },
  {
   "cell_type": "markdown",
   "metadata": {},
   "source": [
    "### Find out what information already exists for the nearest fountains"
   ]
  },
  {
   "cell_type": "code",
   "execution_count": 13,
   "metadata": {},
   "outputs": [],
   "source": [
    "# does nearest have label in german?\n",
    "df['nearest_has_label_de'] = (query_result.iloc[nearest_idx]['place'].apply(lambda p:p[3:]) != query_result.iloc[nearest_idx]['placeLabel']).tolist()\n",
    "\n",
    "# does nearest have date?\n",
    "df['nearest_has_date'] = query_result.iloc[nearest_idx]['date'].apply(lambda d:d is not None).tolist()\n",
    "\n",
    "# does nearest have operator?\n",
    "df['nearest_has_operator'] = query_result.iloc[nearest_idx]['operator'].apply(lambda id:id is not None).tolist()\n",
    "\n",
    "# does nearest have catalog code?\n",
    "df['nearest_has_code'] = query_result.iloc[nearest_idx]['catalog_code'].apply(lambda id:id is not None).tolist()\n",
    "\n",
    "# does nearest have water type?\n",
    "df['nearest_has_water_type'] = query_result.iloc[nearest_idx]['water_supply_type'].apply(lambda id:id is not None).tolist()"
   ]
  },
  {
   "cell_type": "markdown",
   "metadata": {},
   "source": [
    "### Decide on whether nearest fountain should be considered a match"
   ]
  },
  {
   "cell_type": "code",
   "execution_count": 14,
   "metadata": {},
   "outputs": [],
   "source": [
    "# The nearest fountain is a match if: \n",
    "# - no further than x m away\n",
    "# - 2nd nearest fountain at nearest least ratio_min further away than the nearest fountain\n",
    "def validate_proposal(qid, d1, d2, dmax=10, ratio_min=0.5):\n",
    "    \n",
    "    if d1 == 0 or (d1<=dmax and d2/d1-1 >= ratio_min):\n",
    "        return 'match'\n",
    "    elif d1<=dmax and d2/d1-1 < ratio_min:\n",
    "        return 'unclear'\n",
    "    else:\n",
    "        return 'no match'\n",
    "    \n",
    "for index, row in df.iterrows():\n",
    "    df.loc[index, 'match_found'] = validate_proposal(\n",
    "        row['nearest_qid'], \n",
    "        row['nearest_distance'], \n",
    "        row['2nd_nearest_distance'],\n",
    "        dmax=15\n",
    "    )\n",
    "dffinal = df.drop(columns=['nearest_distance', '2nd_nearest_distance'])"
   ]
  },
  {
   "cell_type": "code",
   "execution_count": 15,
   "metadata": {
    "scrolled": false
   },
   "outputs": [
    {
     "data": {
      "text/html": [
       "<div>\n",
       "<style scoped>\n",
       "    .dataframe tbody tr th:only-of-type {\n",
       "        vertical-align: middle;\n",
       "    }\n",
       "\n",
       "    .dataframe tbody tr th {\n",
       "        vertical-align: top;\n",
       "    }\n",
       "\n",
       "    .dataframe thead th {\n",
       "        text-align: right;\n",
       "    }\n",
       "</style>\n",
       "<table border=\"1\" class=\"dataframe\">\n",
       "  <thead>\n",
       "    <tr style=\"text-align: right;\">\n",
       "      <th></th>\n",
       "      <th>X</th>\n",
       "      <th>Y</th>\n",
       "      <th>label_de</th>\n",
       "      <th>nearest_qid</th>\n",
       "      <th>nearest_has_label_de</th>\n",
       "      <th>nearest_has_date</th>\n",
       "      <th>nearest_has_operator</th>\n",
       "      <th>nearest_has_code</th>\n",
       "      <th>nearest_has_water_type</th>\n",
       "      <th>match_found</th>\n",
       "    </tr>\n",
       "  </thead>\n",
       "  <tbody>\n",
       "    <tr>\n",
       "      <th>0</th>\n",
       "      <td>7.629450</td>\n",
       "      <td>47.562891</td>\n",
       "      <td>Äänisbreetli-Brunnen</td>\n",
       "      <td>Q72935444</td>\n",
       "      <td>True</td>\n",
       "      <td>False</td>\n",
       "      <td>True</td>\n",
       "      <td>False</td>\n",
       "      <td>False</td>\n",
       "      <td>no match</td>\n",
       "    </tr>\n",
       "    <tr>\n",
       "      <th>1</th>\n",
       "      <td>7.597086</td>\n",
       "      <td>47.558396</td>\n",
       "      <td>Achteck-Brunnen</td>\n",
       "      <td>Q29686146</td>\n",
       "      <td>True</td>\n",
       "      <td>False</td>\n",
       "      <td>False</td>\n",
       "      <td>False</td>\n",
       "      <td>False</td>\n",
       "      <td>no match</td>\n",
       "    </tr>\n",
       "    <tr>\n",
       "      <th>2</th>\n",
       "      <td>7.593189</td>\n",
       "      <td>47.550235</td>\n",
       "      <td>Aeschengraben-Brunnen</td>\n",
       "      <td>Q29684386</td>\n",
       "      <td>True</td>\n",
       "      <td>False</td>\n",
       "      <td>False</td>\n",
       "      <td>False</td>\n",
       "      <td>False</td>\n",
       "      <td>no match</td>\n",
       "    </tr>\n",
       "    <tr>\n",
       "      <th>3</th>\n",
       "      <td>7.586400</td>\n",
       "      <td>47.558155</td>\n",
       "      <td>Affen-Brunnen</td>\n",
       "      <td>Q29682299</td>\n",
       "      <td>True</td>\n",
       "      <td>False</td>\n",
       "      <td>False</td>\n",
       "      <td>False</td>\n",
       "      <td>False</td>\n",
       "      <td>match</td>\n",
       "    </tr>\n",
       "    <tr>\n",
       "      <th>4</th>\n",
       "      <td>7.593095</td>\n",
       "      <td>47.554276</td>\n",
       "      <td>Affen-Brunnen</td>\n",
       "      <td>Q29686307</td>\n",
       "      <td>True</td>\n",
       "      <td>False</td>\n",
       "      <td>False</td>\n",
       "      <td>False</td>\n",
       "      <td>False</td>\n",
       "      <td>no match</td>\n",
       "    </tr>\n",
       "  </tbody>\n",
       "</table>\n",
       "</div>"
      ],
      "text/plain": [
       "          X          Y               label_de nearest_qid  \\\n",
       "0  7.629450  47.562891   Äänisbreetli-Brunnen   Q72935444   \n",
       "1  7.597086  47.558396        Achteck-Brunnen   Q29686146   \n",
       "2  7.593189  47.550235  Aeschengraben-Brunnen   Q29684386   \n",
       "3  7.586400  47.558155          Affen-Brunnen   Q29682299   \n",
       "4  7.593095  47.554276          Affen-Brunnen   Q29686307   \n",
       "\n",
       "   nearest_has_label_de  nearest_has_date  nearest_has_operator  \\\n",
       "0                  True             False                  True   \n",
       "1                  True             False                 False   \n",
       "2                  True             False                 False   \n",
       "3                  True             False                 False   \n",
       "4                  True             False                 False   \n",
       "\n",
       "   nearest_has_code  nearest_has_water_type match_found  \n",
       "0             False                   False    no match  \n",
       "1             False                   False    no match  \n",
       "2             False                   False    no match  \n",
       "3             False                   False       match  \n",
       "4             False                   False    no match  "
      ]
     },
     "execution_count": 15,
     "metadata": {},
     "output_type": "execute_result"
    }
   ],
   "source": [
    "dffinal.head()"
   ]
  },
  {
   "cell_type": "code",
   "execution_count": 16,
   "metadata": {},
   "outputs": [
    {
     "name": "stdout",
     "output_type": "stream",
     "text": [
      "\n",
      "\n",
      "Total number of rows 2720\n"
     ]
    }
   ],
   "source": [
    "print(\"\\n\\nTotal number of rows \"+str(dffinal.size))"
   ]
  },
  {
   "cell_type": "markdown",
   "metadata": {},
   "source": [
    "## Create Quickstatement commands from data\n",
    "### Helper functions to format content according to Quickstatements v1 syntax"
   ]
  },
  {
   "cell_type": "code",
   "execution_count": 17,
   "metadata": {},
   "outputs": [],
   "source": [
    "def process_coordinates(x, y):\n",
    "    # format geographic coordinates\n",
    "    return '@{1:1.8f}/{0:1.8f}'.format(x,y)\n",
    "\n",
    "\n",
    "def process_year(date):\n",
    "    # format date\n",
    "    if np.isnan(date):\n",
    "        return ''\n",
    "    else:\n",
    "        return '+{0:4d}-00-00T00:00:00Z/9'.format(int(date))\n",
    "\n",
    "    \n",
    "fountain_type_map = {\n",
    "    'öffentlicher Brunnen': 'Q53628296',\n",
    "    'Notwasserbrunnen': 'Q53628522',\n",
    "    'privater Brunnen': 'Q53629707',\n",
    "    'Brunnen in städtischer Liegenschaft': 'Q53628618',\n",
    "    'Brunnen des Verschönerungsvereins': 'Q53628761',\n",
    "    'Brunnen mit eigener Versorgung': 'Q53630002'\n",
    "}\n",
    "\n",
    "water_type_map = {\n",
    "    'Verteilnetz': 'Q53633635',\n",
    "    'Quellwasser': 'Q1881858',\n",
    "    'eigene Versorgung': 'Q53634173',\n",
    "    'Grundwasser': 'Q161598'\n",
    "}\n",
    "\n",
    "def process_fountain_type(type):\n",
    "    # translate fountain types to wikidata values\n",
    "    return fountain_type_map[type]\n",
    "\n",
    "\n",
    "def process_water_type(type):\n",
    "    # translate water types to wikidata values\n",
    "    return water_type_map[type]\n",
    "\n",
    "\n",
    "def process_label_de(text):\n",
    "    # process German language labels\n",
    "    if text is None:\n",
    "        return ''\n",
    "    elif 'brunnen' in text.lower():\n",
    "        return '\"{}\"'.format(text)\n",
    "    else:\n",
    "        return '\"Brunnen ({})\"'.format(text)\n",
    "    \n",
    "\n",
    "def createline(lines, item, prop, value, qualifiers=[]):\n",
    "    # general function to create Quickstatement v1 commands\n",
    "    if value != '' and value != '\"\"':\n",
    "        statement = '{}\\t{}\\t{}'.format(item, prop, value)\n",
    "        if len(qualifiers):\n",
    "            # append qualifiers if applicable\n",
    "            for q in qualifiers:\n",
    "                statement += '\\t{}\\t{}'.format(q['prop'], q['value'])\n",
    "        statement += '\\n'\n",
    "        lines.append(statement)\n",
    "    return lines"
   ]
  },
  {
   "cell_type": "markdown",
   "metadata": {},
   "source": [
    "### Create statements, taking care not to overwrite existing data"
   ]
  },
  {
   "cell_type": "code",
   "execution_count": 18,
   "metadata": {},
   "outputs": [
    {
     "name": "stdout",
     "output_type": "stream",
     "text": [
      "unclear match\n",
      "X                                   7.56142\n",
      "Y                                   47.5627\n",
      "label_de                  Sphingen-Brunnen \n",
      "nearest_qid                       Q72935483\n",
      "nearest_has_label_de                   True\n",
      "nearest_has_date                      False\n",
      "nearest_has_operator                   True\n",
      "nearest_has_code                      False\n",
      "nearest_has_water_type                False\n",
      "match_found                         unclear\n",
      "Name: 220, dtype: object\n"
     ]
    }
   ],
   "source": [
    "# initialize command storage list\n",
    "lines = []\n",
    "\n",
    "for index, row in dffinal.iterrows():\n",
    "    \n",
    "    # either create new or edit existing entity\n",
    "    if row['match_found'] == 'no match':\n",
    "        # create a new fountain\n",
    "        lines.append('CREATE\\n')\n",
    "        item = 'LAST'\n",
    "    elif row['match_found'] == 'unclear':\n",
    "        print('unclear match')\n",
    "        print(row)\n",
    "        continue\n",
    "    elif row['match_found'] == 'match':\n",
    "        # update existing fountain\n",
    "        item = row['nearest_qid']\n",
    "        \n",
    "        \n",
    "    # Add this basic information only if creating a new entity\n",
    "    if item == 'LAST':\n",
    "        # instance of drinking fountain\n",
    "        lines = createline(lines, item, 'P31', 'Q1630622')\n",
    "\n",
    "        # coordinates\n",
    "        lines = createline(lines, item, 'P625', process_coordinates(row['X'], row['Y']))\n",
    "        \n",
    "        # TODO put reference \"https://opendata.swiss/dataset/bade-trinkwasser-und-zierbrunnen-in-basel\"\n",
    "        \n",
    "        \n",
    "    # For other properties, add information if the entity is new or if property does not yet exist\n",
    "    \n",
    "    # label in german\n",
    "    if item == 'LAST' or not row['nearest_has_label_de']:\n",
    "        lines = createline(lines, item, 'Lde', process_label_de(row['label_de']))\n",
    "    \n",
    "    # creation date\n",
    "    #if item == 'LAST' or not row['nearest_has_date']:\n",
    "    #    lines = createline(lines, item, 'P571', process_year(row['date']))\n",
    "\n",
    "    # operated by IWB  \n",
    "    lines = createline(lines, item, 'P137', 'Q72936279')\n",
    "            \n",
    "    # catalog number can always be added (it is hard to check for)\n",
    "    #lines = createline(lines, item, 'P528', '\"{}\"'.format(row['operator_id']), [{\n",
    "    #    'prop': 'P972',\n",
    "    #    'value': 'Q53629101'\n",
    "    #}])"
   ]
  },
  {
   "cell_type": "markdown",
   "metadata": {},
   "source": [
    "# Write commands to file"
   ]
  },
  {
   "cell_type": "code",
   "execution_count": 19,
   "metadata": {
    "scrolled": true
   },
   "outputs": [
    {
     "name": "stdout",
     "output_type": "stream",
     "text": [
      "wrote 'quickstatement_commands_BS_drink_191030_200005.txt' with 1299 lines\n"
     ]
    }
   ],
   "source": [
    "quickStatFileName = \"quickstatement_commands_BS_drink_\"+dt.now().strftime(dtFmt)+\".txt\"\n",
    "with io.open(quickStatFileName, \"w\", encoding='utf8') as f:\n",
    "    f.writelines(lines)\n",
    "print(\"wrote '\"+quickStatFileName+\"' with \"+str(len(lines))+\" lines\")"
   ]
  },
  {
   "cell_type": "markdown",
   "metadata": {},
   "source": [
    "# Import into Wikidata\n",
    "- Go to https://tools.wmflabs.org/wikidata-todo/quick_statements.php.\n",
    "- Authenticate yourself with your Wikidata account.\n",
    "- Copy and paste the contents of quickstatement_commands*.txt into the blank field, and run the commands"
   ]
  },
  {
   "cell_type": "markdown",
   "metadata": {},
   "source": [
    "see ../20191030_1600_import.png\n",
    "\n",
    "...\n",
    "58. Processing Q72935495 (Q72935495 Lde \"Brunnen (Seelöwe-Planschbecken )\")\n",
    "59. Processing Q72935495 (Q72935495 P137 Q27229237)\n",
    "\n",
    "All done!."
   ]
  }
 ],
 "metadata": {
  "kernelspec": {
   "display_name": "Python 3",
   "language": "python",
   "name": "python3"
  },
  "language_info": {
   "codemirror_mode": {
    "name": "ipython",
    "version": 3
   },
   "file_extension": ".py",
   "mimetype": "text/x-python",
   "name": "python",
   "nbconvert_exporter": "python",
   "pygments_lexer": "ipython3",
   "version": "3.6.5"
  }
 },
 "nbformat": 4,
 "nbformat_minor": 2
}
