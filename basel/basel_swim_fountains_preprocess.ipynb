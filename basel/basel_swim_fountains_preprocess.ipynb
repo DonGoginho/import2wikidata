{
 "cells": [
  {
   "cell_type": "markdown",
   "metadata": {},
   "source": [
    "# Automatic import of Basel swimmable fountains data to Wikidata\n",
    "The following script downloads fountain data from Open Data swiss as per https://github.com/water-fountains/import2wikidata/issues/12, compares it to existing fountains in Wikidata for the same region, and creates Wikidata Quickstatement commands to complete the entries in Wikidata. New entities are created if no matching fountains are found."
   ]
  },
  {
   "cell_type": "markdown",
   "metadata": {},
   "source": [
    "## Initialize environment"
   ]
  },
  {
   "cell_type": "code",
   "execution_count": 2,
   "metadata": {},
   "outputs": [
    {
     "name": "stdout",
     "output_type": "stream",
     "text": [
      "191030_193428\n",
      "Python v 3.6.5\n"
     ]
    }
   ],
   "source": [
    "from datetime import datetime as dt\n",
    "dtFmt = \"%y%m%d_%H%M%S\"\n",
    "print (dt.now().strftime(dtFmt))\n",
    "import pandas as pd\n",
    "import io\n",
    "import numpy as np\n",
    "from urllib.request import urlopen\n",
    "import json\n",
    "from math import *\n",
    "from platform import python_version\n",
    "print(\"Python v \"+python_version())\n",
    "#https://github.com/paulhoule/gastrodon/issues/7 \n",
    "from gastrodon import RemoteEndpoint,QName,ttl,URIRef,inline\n",
    "from matplotlib import pyplot\n"
   ]
  },
  {
   "cell_type": "code",
   "execution_count": 3,
   "metadata": {},
   "outputs": [],
   "source": [
    "#@prefix wikibase: <wikibase: <http://wikiba.se/ontology#> .\n",
    "prefixes=inline(\"\"\"\n",
    "   @prefix wd: <http://www.wikidata.org/entity/> .\n",
    "   @prefix wdt: <http://www.wikidata.org/prop/direct/> .\n",
    "   @prefix rdf: <http://www.w3.org/1999/02/22-rdf-syntax-ns#> .\n",
    "   @prefix rdfs: <http://www.w3.org/2000/01/rdf-schema#> .\n",
    "\"\"\").graph\n",
    "endpoint=RemoteEndpoint(\n",
    "   \"http://query.wikidata.org/sparql\"\n",
    "   ,prefixes=prefixes\n",
    ")"
   ]
  },
  {
   "cell_type": "markdown",
   "metadata": {},
   "source": [
    "## Load data"
   ]
  },
  {
   "cell_type": "code",
   "execution_count": 4,
   "metadata": {},
   "outputs": [],
   "source": [
    "df = pd.read_csv(\"data/Badebrunnen.csv\")"
   ]
  },
  {
   "cell_type": "code",
   "execution_count": 5,
   "metadata": {},
   "outputs": [
    {
     "data": {
      "text/html": [
       "<div>\n",
       "<style scoped>\n",
       "    .dataframe tbody tr th:only-of-type {\n",
       "        vertical-align: middle;\n",
       "    }\n",
       "\n",
       "    .dataframe tbody tr th {\n",
       "        vertical-align: top;\n",
       "    }\n",
       "\n",
       "    .dataframe thead th {\n",
       "        text-align: right;\n",
       "    }\n",
       "</style>\n",
       "<table border=\"1\" class=\"dataframe\">\n",
       "  <thead>\n",
       "    <tr style=\"text-align: right;\">\n",
       "      <th></th>\n",
       "      <th>X</th>\n",
       "      <th>Y</th>\n",
       "      <th>Name</th>\n",
       "      <th>Description</th>\n",
       "    </tr>\n",
       "  </thead>\n",
       "  <tbody>\n",
       "    <tr>\n",
       "      <th>0</th>\n",
       "      <td>7.592793</td>\n",
       "      <td>47.559578</td>\n",
       "      <td>Antonierhof-Brunnen</td>\n",
       "      <td>&lt;img src=\"https://doc-14-24-mymaps.googleuserc...</td>\n",
       "    </tr>\n",
       "    <tr>\n",
       "      <th>1</th>\n",
       "      <td>7.595505</td>\n",
       "      <td>47.530959</td>\n",
       "      <td>Brunnen im Bruderholzschulhaus</td>\n",
       "      <td>&lt;img src=\"https://doc-0c-24-mymaps.googleuserc...</td>\n",
       "    </tr>\n",
       "    <tr>\n",
       "      <th>2</th>\n",
       "      <td>7.584560</td>\n",
       "      <td>47.563604</td>\n",
       "      <td>Faule Magd-Brunnen</td>\n",
       "      <td>&lt;img src=\"https://doc-0c-24-mymaps.googleuserc...</td>\n",
       "    </tr>\n",
       "    <tr>\n",
       "      <th>3</th>\n",
       "      <td>7.586407</td>\n",
       "      <td>47.556463</td>\n",
       "      <td>Gemsberg-Brunnen</td>\n",
       "      <td>&lt;img src=\"https://doc-0s-24-mymaps.googleuserc...</td>\n",
       "    </tr>\n",
       "    <tr>\n",
       "      <th>4</th>\n",
       "      <td>7.584292</td>\n",
       "      <td>47.559422</td>\n",
       "      <td>Grabeneck-Brunnen</td>\n",
       "      <td>&lt;img src=\"https://doc-00-24-mymaps.googleuserc...</td>\n",
       "    </tr>\n",
       "  </tbody>\n",
       "</table>\n",
       "</div>"
      ],
      "text/plain": [
       "          X          Y                            Name  \\\n",
       "0  7.592793  47.559578             Antonierhof-Brunnen   \n",
       "1  7.595505  47.530959  Brunnen im Bruderholzschulhaus   \n",
       "2  7.584560  47.563604              Faule Magd-Brunnen   \n",
       "3  7.586407  47.556463                Gemsberg-Brunnen   \n",
       "4  7.584292  47.559422               Grabeneck-Brunnen   \n",
       "\n",
       "                                         Description  \n",
       "0  <img src=\"https://doc-14-24-mymaps.googleuserc...  \n",
       "1  <img src=\"https://doc-0c-24-mymaps.googleuserc...  \n",
       "2  <img src=\"https://doc-0c-24-mymaps.googleuserc...  \n",
       "3  <img src=\"https://doc-0s-24-mymaps.googleuserc...  \n",
       "4  <img src=\"https://doc-00-24-mymaps.googleuserc...  "
      ]
     },
     "execution_count": 5,
     "metadata": {},
     "output_type": "execute_result"
    }
   ],
   "source": [
    "df.head()"
   ]
  },
  {
   "cell_type": "markdown",
   "metadata": {},
   "source": [
    "### Rename columns to make them easier to work with"
   ]
  },
  {
   "cell_type": "code",
   "execution_count": 6,
   "metadata": {
    "scrolled": true
   },
   "outputs": [],
   "source": [
    "\n",
    "# remove not needed columns\n",
    "df = df.drop(columns=['Description'])\n",
    "# rename columns\n",
    "df = df.rename(index=str, columns=\n",
    "               {\"Name\": \"label_de\"})"
   ]
  },
  {
   "cell_type": "markdown",
   "metadata": {},
   "source": [
    "## Identify already existing fountains\n",
    "### Query fountains from Wikidata"
   ]
  },
  {
   "cell_type": "code",
   "execution_count": 7,
   "metadata": {},
   "outputs": [],
   "source": [
    "# Find the geographic extent of the data\n",
    "\n",
    "buffer = 0.0003  # in degrees, corresponds to about 20-30 meters)\n",
    "bounds = {\n",
    "    'minX': df['X'].min() - buffer,\n",
    "    'minY': df['Y'].min() - buffer,\n",
    "    'maxX': df['X'].max() + buffer,\n",
    "    'maxY': df['Y'].max() + buffer\n",
    "}"
   ]
  },
  {
   "cell_type": "code",
   "execution_count": 8,
   "metadata": {},
   "outputs": [],
   "source": [
    "# Query fountains (both water wells and fountains) from Wikidata within bounding box found above\n",
    "\n",
    "query_string = \"\"\" SELECT ?place ?placeLabel ?location ?date ?catalog_code ?catalogLabel ?operator ?water_supply_type\n",
    "WHERE\n",
    "{{\n",
    "  # Enter coordinates\n",
    "  SERVICE wikibase:box {{\n",
    "    ?place wdt:P625 ?location .\n",
    "    bd:serviceParam wikibase:cornerWest \"Point({minX} {minY})\"^^geo:wktLiteral.\n",
    "    bd:serviceParam wikibase:cornerEast \"Point({maxX} {maxY})\"^^geo:wktLiteral.\n",
    "  }} .\n",
    "  # Is a water well or fountain or subclass of fountain\n",
    "  FILTER (EXISTS {{ ?place wdt:P31/wdt:P279* wd:Q43483 }} || EXISTS {{ ?place wdt:P31/wdt:P279* wd:Q483453 }}).\n",
    "  SERVICE wikibase:label {{\n",
    "    bd:serviceParam wikibase:language \"[AUTO_LANGUAGE],de\" .\n",
    "  }} \n",
    "  OPTIONAL {{ ?place p:P528 ?catalog_code.\n",
    "            ?catalog_code pq:P972 ?catalog.}}\n",
    "  OPTIONAL {{ ?place wdt:P571 ?date.}}\n",
    "  OPTIONAL {{ ?place wdt:P5623 ?water_supply_type}}\n",
    "  OPTIONAL {{ ?place wdt:P137 ?operator.}}\n",
    "}}\n",
    "  \"\"\".format(**bounds)\n",
    "\n",
    "# Perform query\n",
    "query_result = endpoint.select(query_string)"
   ]
  },
  {
   "cell_type": "code",
   "execution_count": 9,
   "metadata": {},
   "outputs": [
    {
     "name": "stdout",
     "output_type": "stream",
     "text": [
      " SELECT ?place ?placeLabel ?location ?date ?catalog_code ?catalogLabel ?operator ?water_supply_type\n",
      "WHERE\n",
      "{\n",
      "  # Enter coordinates\n",
      "  SERVICE wikibase:box {\n",
      "    ?place wdt:P625 ?location .\n",
      "    bd:serviceParam wikibase:cornerWest \"Point(7.5610417 47.53065889999999)\"^^geo:wktLiteral.\n",
      "    bd:serviceParam wikibase:cornerEast \"Point(7.610176200000001 47.5707258)\"^^geo:wktLiteral.\n",
      "  } .\n",
      "  # Is a water well or fountain or subclass of fountain\n",
      "  FILTER (EXISTS { ?place wdt:P31/wdt:P279* wd:Q43483 } || EXISTS { ?place wdt:P31/wdt:P279* wd:Q483453 }).\n",
      "  SERVICE wikibase:label {\n",
      "    bd:serviceParam wikibase:language \"[AUTO_LANGUAGE],de\" .\n",
      "  } \n",
      "  OPTIONAL { ?place p:P528 ?catalog_code.\n",
      "            ?catalog_code pq:P972 ?catalog.}\n",
      "  OPTIONAL { ?place wdt:P571 ?date.}\n",
      "  OPTIONAL { ?place wdt:P5623 ?water_supply_type}\n",
      "  OPTIONAL { ?place wdt:P137 ?operator.}\n",
      "}\n",
      "  \n",
      "\n",
      "\n",
      "Total number of rows incl. duplicates 424\n"
     ]
    }
   ],
   "source": [
    "print(query_string)\n",
    "print(\"\\n\\nTotal number of rows incl. duplicates \"+str(query_result.size))"
   ]
  },
  {
   "cell_type": "markdown",
   "metadata": {},
   "source": [
    "### Tidy up data"
   ]
  },
  {
   "cell_type": "code",
   "execution_count": 10,
   "metadata": {},
   "outputs": [],
   "source": [
    "# Extract coordinates from Wikidata results\n",
    "\n",
    "query_result['X'] = query_result['location'].apply(lambda l:float(l.split('(')[1].split(' ')[0]))\n",
    "query_result['Y'] = query_result['location'].apply(lambda l:float(l.split(' ')[1].split(')')[0]))"
   ]
  },
  {
   "cell_type": "code",
   "execution_count": 11,
   "metadata": {
    "scrolled": true
   },
   "outputs": [],
   "source": [
    "# remove duplicate entries\n",
    "\n",
    "# duplicate entries are caused when e.g. a fountain has catalog codes from two catalogs\n",
    "query_result = query_result.drop_duplicates('place')"
   ]
  },
  {
   "cell_type": "markdown",
   "metadata": {},
   "source": [
    "### Compute distances between fountains"
   ]
  },
  {
   "cell_type": "code",
   "execution_count": 12,
   "metadata": {
    "scrolled": true
   },
   "outputs": [],
   "source": [
    "# helper function to compute distances on the globe, returns distances in meters\n",
    "def spherical_dist(pos1, pos2, r=6371000):\n",
    "    pos1 = pos1 * np.pi / 180\n",
    "    pos2 = pos2 * np.pi / 180\n",
    "    cos_lat1 = np.cos(pos1[..., 0])\n",
    "    cos_lat2 = np.cos(pos2[..., 0])\n",
    "    cos_lat_d = np.cos(pos1[..., 0] - pos2[..., 0])\n",
    "    cos_lon_d = np.cos(pos1[..., 1] - pos2[..., 1])\n",
    "    return r * np.arccos(cos_lat_d - cos_lat1 * cos_lat2 * (1 - cos_lon_d))\n",
    "\n",
    "\n",
    "# compute distances from each ODZ fountain to each Wikidata fountain\n",
    "distances = spherical_dist(df[['X','Y']].values[:, None], query_result[['X','Y']].values)"
   ]
  },
  {
   "cell_type": "markdown",
   "metadata": {},
   "source": [
    "### Identify nearest and second nearest matches for each OpenData.swiss basel fountain"
   ]
  },
  {
   "cell_type": "code",
   "execution_count": 13,
   "metadata": {
    "scrolled": true
   },
   "outputs": [
    {
     "data": {
      "text/html": [
       "<div>\n",
       "<style scoped>\n",
       "    .dataframe tbody tr th:only-of-type {\n",
       "        vertical-align: middle;\n",
       "    }\n",
       "\n",
       "    .dataframe tbody tr th {\n",
       "        vertical-align: top;\n",
       "    }\n",
       "\n",
       "    .dataframe thead th {\n",
       "        text-align: right;\n",
       "    }\n",
       "</style>\n",
       "<table border=\"1\" class=\"dataframe\">\n",
       "  <thead>\n",
       "    <tr style=\"text-align: right;\">\n",
       "      <th></th>\n",
       "      <th>X</th>\n",
       "      <th>Y</th>\n",
       "      <th>label_de</th>\n",
       "      <th>nearest_qid</th>\n",
       "      <th>nearest_distance</th>\n",
       "      <th>2nd_nearest_distance</th>\n",
       "    </tr>\n",
       "  </thead>\n",
       "  <tbody>\n",
       "    <tr>\n",
       "      <th>0</th>\n",
       "      <td>7.592793</td>\n",
       "      <td>47.559578</td>\n",
       "      <td>Antonierhof-Brunnen</td>\n",
       "      <td>Q72935358</td>\n",
       "      <td>0.000000</td>\n",
       "      <td>0.000000</td>\n",
       "    </tr>\n",
       "    <tr>\n",
       "      <th>1</th>\n",
       "      <td>7.595505</td>\n",
       "      <td>47.530959</td>\n",
       "      <td>Brunnen im Bruderholzschulhaus</td>\n",
       "      <td>Q72935373</td>\n",
       "      <td>0.000000</td>\n",
       "      <td>0.000000</td>\n",
       "    </tr>\n",
       "    <tr>\n",
       "      <th>2</th>\n",
       "      <td>7.584560</td>\n",
       "      <td>47.563604</td>\n",
       "      <td>Faule Magd-Brunnen</td>\n",
       "      <td>Q29682947</td>\n",
       "      <td>3.291395</td>\n",
       "      <td>384.293232</td>\n",
       "    </tr>\n",
       "    <tr>\n",
       "      <th>3</th>\n",
       "      <td>7.586407</td>\n",
       "      <td>47.556463</td>\n",
       "      <td>Gemsberg-Brunnen</td>\n",
       "      <td>Q72935387</td>\n",
       "      <td>0.000000</td>\n",
       "      <td>0.000000</td>\n",
       "    </tr>\n",
       "    <tr>\n",
       "      <th>4</th>\n",
       "      <td>7.584292</td>\n",
       "      <td>47.559422</td>\n",
       "      <td>Grabeneck-Brunnen</td>\n",
       "      <td>Q29683423</td>\n",
       "      <td>7.078889</td>\n",
       "      <td>206.749485</td>\n",
       "    </tr>\n",
       "    <tr>\n",
       "      <th>5</th>\n",
       "      <td>7.591549</td>\n",
       "      <td>47.556685</td>\n",
       "      <td>Pisoni-Brunnen</td>\n",
       "      <td>Q72935405</td>\n",
       "      <td>0.000000</td>\n",
       "      <td>0.000000</td>\n",
       "    </tr>\n",
       "    <tr>\n",
       "      <th>6</th>\n",
       "      <td>7.575614</td>\n",
       "      <td>47.549163</td>\n",
       "      <td>Rütimeyer Brunnen</td>\n",
       "      <td>Q72935420</td>\n",
       "      <td>0.000000</td>\n",
       "      <td>0.000000</td>\n",
       "    </tr>\n",
       "    <tr>\n",
       "      <th>7</th>\n",
       "      <td>7.597387</td>\n",
       "      <td>47.554562</td>\n",
       "      <td>Schöneck-Brunnen</td>\n",
       "      <td>Q29685389</td>\n",
       "      <td>2.141838</td>\n",
       "      <td>329.832961</td>\n",
       "    </tr>\n",
       "    <tr>\n",
       "      <th>8</th>\n",
       "      <td>7.588769</td>\n",
       "      <td>47.558703</td>\n",
       "      <td>Sevogel-Brunnen</td>\n",
       "      <td>Q72935434</td>\n",
       "      <td>0.000000</td>\n",
       "      <td>0.000000</td>\n",
       "    </tr>\n",
       "    <tr>\n",
       "      <th>9</th>\n",
       "      <td>7.609876</td>\n",
       "      <td>47.558424</td>\n",
       "      <td>Solitude Planschbecken</td>\n",
       "      <td>Q72935444</td>\n",
       "      <td>0.000000</td>\n",
       "      <td>0.000000</td>\n",
       "    </tr>\n",
       "    <tr>\n",
       "      <th>10</th>\n",
       "      <td>7.590015</td>\n",
       "      <td>47.570426</td>\n",
       "      <td>Spritz-Brunnen</td>\n",
       "      <td>Q72935455</td>\n",
       "      <td>0.000000</td>\n",
       "      <td>0.000000</td>\n",
       "    </tr>\n",
       "    <tr>\n",
       "      <th>11</th>\n",
       "      <td>7.582659</td>\n",
       "      <td>47.558526</td>\n",
       "      <td>Stachelschützen-Brunnen</td>\n",
       "      <td>Q72935468</td>\n",
       "      <td>0.000000</td>\n",
       "      <td>0.000000</td>\n",
       "    </tr>\n",
       "    <tr>\n",
       "      <th>12</th>\n",
       "      <td>7.586941</td>\n",
       "      <td>47.561111</td>\n",
       "      <td>St. Urban-Brunnen</td>\n",
       "      <td>Q29685802</td>\n",
       "      <td>4.804326</td>\n",
       "      <td>207.062329</td>\n",
       "    </tr>\n",
       "    <tr>\n",
       "      <th>13</th>\n",
       "      <td>7.561342</td>\n",
       "      <td>47.562621</td>\n",
       "      <td>Planschbecken</td>\n",
       "      <td>Q72935483</td>\n",
       "      <td>0.000000</td>\n",
       "      <td>0.000000</td>\n",
       "    </tr>\n",
       "    <tr>\n",
       "      <th>14</th>\n",
       "      <td>7.574067</td>\n",
       "      <td>47.552920</td>\n",
       "      <td>Seelöwe-Planschbecken</td>\n",
       "      <td>Q72935495</td>\n",
       "      <td>0.000000</td>\n",
       "      <td>0.000000</td>\n",
       "    </tr>\n",
       "  </tbody>\n",
       "</table>\n",
       "</div>"
      ],
      "text/plain": [
       "           X          Y                        label_de nearest_qid  \\\n",
       "0   7.592793  47.559578             Antonierhof-Brunnen   Q72935358   \n",
       "1   7.595505  47.530959  Brunnen im Bruderholzschulhaus   Q72935373   \n",
       "2   7.584560  47.563604              Faule Magd-Brunnen   Q29682947   \n",
       "3   7.586407  47.556463                Gemsberg-Brunnen   Q72935387   \n",
       "4   7.584292  47.559422               Grabeneck-Brunnen   Q29683423   \n",
       "5   7.591549  47.556685                  Pisoni-Brunnen   Q72935405   \n",
       "6   7.575614  47.549163               Rütimeyer Brunnen   Q72935420   \n",
       "7   7.597387  47.554562                Schöneck-Brunnen   Q29685389   \n",
       "8   7.588769  47.558703                 Sevogel-Brunnen   Q72935434   \n",
       "9   7.609876  47.558424          Solitude Planschbecken   Q72935444   \n",
       "10  7.590015  47.570426                  Spritz-Brunnen   Q72935455   \n",
       "11  7.582659  47.558526         Stachelschützen-Brunnen   Q72935468   \n",
       "12  7.586941  47.561111               St. Urban-Brunnen   Q29685802   \n",
       "13  7.561342  47.562621                   Planschbecken   Q72935483   \n",
       "14  7.574067  47.552920          Seelöwe-Planschbecken    Q72935495   \n",
       "\n",
       "    nearest_distance  2nd_nearest_distance  \n",
       "0           0.000000              0.000000  \n",
       "1           0.000000              0.000000  \n",
       "2           3.291395            384.293232  \n",
       "3           0.000000              0.000000  \n",
       "4           7.078889            206.749485  \n",
       "5           0.000000              0.000000  \n",
       "6           0.000000              0.000000  \n",
       "7           2.141838            329.832961  \n",
       "8           0.000000              0.000000  \n",
       "9           0.000000              0.000000  \n",
       "10          0.000000              0.000000  \n",
       "11          0.000000              0.000000  \n",
       "12          4.804326            207.062329  \n",
       "13          0.000000              0.000000  \n",
       "14          0.000000              0.000000  "
      ]
     },
     "execution_count": 13,
     "metadata": {},
     "output_type": "execute_result"
    }
   ],
   "source": [
    "# indexes of nearest fountains\n",
    "nearest_idx = np.argmin(distances, axis=1).tolist()\n",
    "\n",
    "# QID of nearest fountains\n",
    "df['nearest_qid'] = query_result.iloc[nearest_idx]['place'].apply(lambda id:id[3:]).tolist()\n",
    "\n",
    "# distance to nearest fountain\n",
    "df['nearest_distance'] = np.min(distances, axis=1).tolist()\n",
    "\n",
    "\n",
    "# then remove nearest\n",
    "i_line=0\n",
    "for i_col in nearest_idx:\n",
    "    distances[i_line, i_col] = 100000\n",
    "    i_line += 1\n",
    "# find distance to second nearest\n",
    "df['2nd_nearest_distance'] = np.min(distances, axis=1).tolist()\n",
    "\n",
    "df.head(100)"
   ]
  },
  {
   "cell_type": "markdown",
   "metadata": {},
   "source": [
    "### Find out what information already exists for the nearest fountains"
   ]
  },
  {
   "cell_type": "code",
   "execution_count": 14,
   "metadata": {},
   "outputs": [],
   "source": [
    "# does nearest have label in german?\n",
    "df['nearest_has_label_de'] = (query_result.iloc[nearest_idx]['place'].apply(lambda p:p[3:]) != query_result.iloc[nearest_idx]['placeLabel']).tolist()\n",
    "\n",
    "# does nearest have date?\n",
    "df['nearest_has_date'] = query_result.iloc[nearest_idx]['date'].apply(lambda d:d is not None).tolist()\n",
    "\n",
    "# does nearest have operator?\n",
    "df['nearest_has_operator'] = query_result.iloc[nearest_idx]['operator'].apply(lambda id:id is not None).tolist()\n",
    "\n",
    "# does nearest have catalog code?\n",
    "df['nearest_has_code'] = query_result.iloc[nearest_idx]['catalog_code'].apply(lambda id:id is not None).tolist()\n",
    "\n",
    "# does nearest have water type?\n",
    "df['nearest_has_water_type'] = query_result.iloc[nearest_idx]['water_supply_type'].apply(lambda id:id is not None).tolist()"
   ]
  },
  {
   "cell_type": "markdown",
   "metadata": {},
   "source": [
    "### Decide on whether nearest fountain should be considered a match"
   ]
  },
  {
   "cell_type": "code",
   "execution_count": 15,
   "metadata": {},
   "outputs": [],
   "source": [
    "# The nearest fountain is a match if: \n",
    "# - no further than x m away\n",
    "# - 2nd nearest fountain at nearest least ratio_min further away than the nearest fountain\n",
    "def validate_proposal(qid, d1, d2, dmax=10, ratio_min=0.5):\n",
    "    \n",
    "    if d1 == 0 or (d1<=dmax and d2/d1-1 >= ratio_min):\n",
    "        return 'match'\n",
    "    elif d1<=dmax and d2/d1-1 < ratio_min:\n",
    "        return 'unclear'\n",
    "    else:\n",
    "        return 'no match'\n",
    "    \n",
    "for index, row in df.iterrows():\n",
    "    df.loc[index, 'match_found'] = validate_proposal(\n",
    "        row['nearest_qid'], \n",
    "        row['nearest_distance'], \n",
    "        row['2nd_nearest_distance'],\n",
    "        dmax=15\n",
    "    )\n",
    "dffinal = df.drop(columns=['nearest_distance', '2nd_nearest_distance'])"
   ]
  },
  {
   "cell_type": "code",
   "execution_count": 16,
   "metadata": {
    "scrolled": false
   },
   "outputs": [
    {
     "data": {
      "text/html": [
       "<div>\n",
       "<style scoped>\n",
       "    .dataframe tbody tr th:only-of-type {\n",
       "        vertical-align: middle;\n",
       "    }\n",
       "\n",
       "    .dataframe tbody tr th {\n",
       "        vertical-align: top;\n",
       "    }\n",
       "\n",
       "    .dataframe thead th {\n",
       "        text-align: right;\n",
       "    }\n",
       "</style>\n",
       "<table border=\"1\" class=\"dataframe\">\n",
       "  <thead>\n",
       "    <tr style=\"text-align: right;\">\n",
       "      <th></th>\n",
       "      <th>X</th>\n",
       "      <th>Y</th>\n",
       "      <th>label_de</th>\n",
       "      <th>nearest_qid</th>\n",
       "      <th>nearest_has_label_de</th>\n",
       "      <th>nearest_has_date</th>\n",
       "      <th>nearest_has_operator</th>\n",
       "      <th>nearest_has_code</th>\n",
       "      <th>nearest_has_water_type</th>\n",
       "      <th>match_found</th>\n",
       "    </tr>\n",
       "  </thead>\n",
       "  <tbody>\n",
       "    <tr>\n",
       "      <th>0</th>\n",
       "      <td>7.592793</td>\n",
       "      <td>47.559578</td>\n",
       "      <td>Antonierhof-Brunnen</td>\n",
       "      <td>Q72935358</td>\n",
       "      <td>True</td>\n",
       "      <td>False</td>\n",
       "      <td>True</td>\n",
       "      <td>False</td>\n",
       "      <td>False</td>\n",
       "      <td>match</td>\n",
       "    </tr>\n",
       "    <tr>\n",
       "      <th>1</th>\n",
       "      <td>7.595505</td>\n",
       "      <td>47.530959</td>\n",
       "      <td>Brunnen im Bruderholzschulhaus</td>\n",
       "      <td>Q72935373</td>\n",
       "      <td>True</td>\n",
       "      <td>False</td>\n",
       "      <td>True</td>\n",
       "      <td>False</td>\n",
       "      <td>False</td>\n",
       "      <td>match</td>\n",
       "    </tr>\n",
       "    <tr>\n",
       "      <th>2</th>\n",
       "      <td>7.584560</td>\n",
       "      <td>47.563604</td>\n",
       "      <td>Faule Magd-Brunnen</td>\n",
       "      <td>Q29682947</td>\n",
       "      <td>True</td>\n",
       "      <td>False</td>\n",
       "      <td>True</td>\n",
       "      <td>False</td>\n",
       "      <td>False</td>\n",
       "      <td>match</td>\n",
       "    </tr>\n",
       "    <tr>\n",
       "      <th>3</th>\n",
       "      <td>7.586407</td>\n",
       "      <td>47.556463</td>\n",
       "      <td>Gemsberg-Brunnen</td>\n",
       "      <td>Q72935387</td>\n",
       "      <td>True</td>\n",
       "      <td>False</td>\n",
       "      <td>True</td>\n",
       "      <td>False</td>\n",
       "      <td>False</td>\n",
       "      <td>match</td>\n",
       "    </tr>\n",
       "    <tr>\n",
       "      <th>4</th>\n",
       "      <td>7.584292</td>\n",
       "      <td>47.559422</td>\n",
       "      <td>Grabeneck-Brunnen</td>\n",
       "      <td>Q29683423</td>\n",
       "      <td>True</td>\n",
       "      <td>False</td>\n",
       "      <td>True</td>\n",
       "      <td>False</td>\n",
       "      <td>False</td>\n",
       "      <td>match</td>\n",
       "    </tr>\n",
       "  </tbody>\n",
       "</table>\n",
       "</div>"
      ],
      "text/plain": [
       "          X          Y                        label_de nearest_qid  \\\n",
       "0  7.592793  47.559578             Antonierhof-Brunnen   Q72935358   \n",
       "1  7.595505  47.530959  Brunnen im Bruderholzschulhaus   Q72935373   \n",
       "2  7.584560  47.563604              Faule Magd-Brunnen   Q29682947   \n",
       "3  7.586407  47.556463                Gemsberg-Brunnen   Q72935387   \n",
       "4  7.584292  47.559422               Grabeneck-Brunnen   Q29683423   \n",
       "\n",
       "   nearest_has_label_de  nearest_has_date  nearest_has_operator  \\\n",
       "0                  True             False                  True   \n",
       "1                  True             False                  True   \n",
       "2                  True             False                  True   \n",
       "3                  True             False                  True   \n",
       "4                  True             False                  True   \n",
       "\n",
       "   nearest_has_code  nearest_has_water_type match_found  \n",
       "0             False                   False       match  \n",
       "1             False                   False       match  \n",
       "2             False                   False       match  \n",
       "3             False                   False       match  \n",
       "4             False                   False       match  "
      ]
     },
     "execution_count": 16,
     "metadata": {},
     "output_type": "execute_result"
    }
   ],
   "source": [
    "dffinal.head()"
   ]
  },
  {
   "cell_type": "code",
   "execution_count": 17,
   "metadata": {},
   "outputs": [
    {
     "name": "stdout",
     "output_type": "stream",
     "text": [
      "\n",
      "\n",
      "Total number of rows 150\n"
     ]
    }
   ],
   "source": [
    "print(\"\\n\\nTotal number of rows \"+str(dffinal.size))"
   ]
  },
  {
   "cell_type": "markdown",
   "metadata": {},
   "source": [
    "## Create Quickstatement commands from data\n",
    "### Helper functions to format content according to Quickstatements v1 syntax"
   ]
  },
  {
   "cell_type": "code",
   "execution_count": 18,
   "metadata": {},
   "outputs": [],
   "source": [
    "def process_coordinates(x, y):\n",
    "    # format geographic coordinates\n",
    "    return '@{1:1.8f}/{0:1.8f}'.format(x,y)\n",
    "\n",
    "\n",
    "def process_year(date):\n",
    "    # format date\n",
    "    if np.isnan(date):\n",
    "        return ''\n",
    "    else:\n",
    "        return '+{0:4d}-00-00T00:00:00Z/9'.format(int(date))\n",
    "\n",
    "    \n",
    "fountain_type_map = {\n",
    "    'öffentlicher Brunnen': 'Q53628296',\n",
    "    'Notwasserbrunnen': 'Q53628522',\n",
    "    'privater Brunnen': 'Q53629707',\n",
    "    'Brunnen in städtischer Liegenschaft': 'Q53628618',\n",
    "    'Brunnen des Verschönerungsvereins': 'Q53628761',\n",
    "    'Brunnen mit eigener Versorgung': 'Q53630002'\n",
    "}\n",
    "\n",
    "water_type_map = {\n",
    "    'Verteilnetz': 'Q53633635',\n",
    "    'Quellwasser': 'Q1881858',\n",
    "    'eigene Versorgung': 'Q53634173',\n",
    "    'Grundwasser': 'Q161598'\n",
    "}\n",
    "\n",
    "def process_fountain_type(type):\n",
    "    # translate fountain types to wikidata values\n",
    "    return fountain_type_map[type]\n",
    "\n",
    "\n",
    "def process_water_type(type):\n",
    "    # translate water types to wikidata values\n",
    "    return water_type_map[type]\n",
    "\n",
    "\n",
    "def process_label_de(text):\n",
    "    # process German language labels\n",
    "    if text is None:\n",
    "        return ''\n",
    "    elif 'brunnen' in text.lower():\n",
    "        return '\"{}\"'.format(text)\n",
    "    else:\n",
    "        return '\"Brunnen ({})\"'.format(text)\n",
    "    \n",
    "\n",
    "def createline(lines, item, prop, value, qualifiers=[]):\n",
    "    # general function to create Quickstatement v1 commands\n",
    "    if value != '' and value != '\"\"':\n",
    "        statement = '{}\\t{}\\t{}'.format(item, prop, value)\n",
    "        if len(qualifiers):\n",
    "            # append qualifiers if applicable\n",
    "            for q in qualifiers:\n",
    "                statement += '\\t{}\\t{}'.format(q['prop'], q['value'])\n",
    "        statement += '\\n'\n",
    "        lines.append(statement)\n",
    "    return lines"
   ]
  },
  {
   "cell_type": "markdown",
   "metadata": {},
   "source": [
    "### Create statements, taking care not to overwrite existing data"
   ]
  },
  {
   "cell_type": "code",
   "execution_count": 19,
   "metadata": {},
   "outputs": [],
   "source": [
    "# initialize command storage list\n",
    "lines = []\n",
    "\n",
    "for index, row in dffinal.iterrows():\n",
    "    \n",
    "    # either create new or edit existing entity\n",
    "    if row['match_found'] == 'no match':\n",
    "        # create a new fountain\n",
    "        lines.append('CREATE\\n')\n",
    "        item = 'LAST'\n",
    "    elif row['match_found'] == 'unclear':\n",
    "        print('unclear match')\n",
    "        print(row)\n",
    "        continue\n",
    "    elif row['match_found'] == 'match':\n",
    "        # update existing fountain\n",
    "        item = row['nearest_qid']\n",
    "        \n",
    "        \n",
    "    # Add this basic information only if creating a new entity\n",
    "    if item == 'LAST':\n",
    "        # instance of drinking fountain\n",
    "        lines = createline(lines, item, 'P31', 'Q1630622')\n",
    "\n",
    "        # instance of swimmable place https://www.wikidata.org/wiki/Q17456505\n",
    "        lines = createline(lines, item, 'P31', 'Q17456505')\n",
    "\n",
    "        # coordinates\n",
    "        lines = createline(lines, item, 'P625', process_coordinates(row['X'], row['Y']))\n",
    "        \n",
    "        # TODO put reference \"https://opendata.swiss/dataset/bade-trinkwasser-und-zierbrunnen-in-basel\"\n",
    "        \n",
    "        \n",
    "    # For other properties, add information if the entity is new or if property does not yet exist\n",
    "    \n",
    "    # label in german\n",
    "    if item == 'LAST' or not row['nearest_has_label_de']:\n",
    "        lines = createline(lines, item, 'Lde', process_label_de(row['label_de']))\n",
    "    \n",
    "    # creation date\n",
    "    #if item == 'LAST' or not row['nearest_has_date']:\n",
    "    #    lines = createline(lines, item, 'P571', process_year(row['date']))\n",
    "\n",
    "    # operated by IWB  \n",
    "    lines = createline(lines, item, 'P137', 'Q72936279')\n",
    "            \n",
    "    # catalog number can always be added (it is hard to check for)\n",
    "    #lines = createline(lines, item, 'P528', '\"{}\"'.format(row['operator_id']), [{\n",
    "    #    'prop': 'P972',\n",
    "    #    'value': 'Q53629101'\n",
    "    #}])"
   ]
  },
  {
   "cell_type": "markdown",
   "metadata": {},
   "source": [
    "# Write commands to file"
   ]
  },
  {
   "cell_type": "code",
   "execution_count": 28,
   "metadata": {
    "scrolled": true
   },
   "outputs": [
    {
     "name": "stdout",
     "output_type": "stream",
     "text": [
      "wrote 'quickstatement_commands_BS_191030_195145.txt' with 15 lines\n"
     ]
    }
   ],
   "source": [
    "quickStatFileName = \"quickstatement_commands_BS_\"+dt.now().strftime(dtFmt)+\".txt\"\n",
    "with io.open(quickStatFileName, \"w\", encoding='utf8') as f:\n",
    "    f.writelines(lines)\n",
    "print(\"wrote '\"+quickStatFileName+\"' with \"+str(len(lines))+\" lines\")"
   ]
  },
  {
   "cell_type": "markdown",
   "metadata": {},
   "source": [
    "# Import into Wikidata\n",
    "- Go to https://tools.wmflabs.org/wikidata-todo/quick_statements.php.\n",
    "- Authenticate yourself with your Wikidata account.\n",
    "- Copy and paste the contents of quickstatement_commands*.txt into the blank field, and run the commands"
   ]
  },
  {
   "cell_type": "markdown",
   "metadata": {},
   "source": [
    "see ../20191030_1600_import.png\n",
    "\n",
    "...\n",
    "58. Processing Q72935495 (Q72935495 Lde \"Brunnen (Seelöwe-Planschbecken )\")\n",
    "59. Processing Q72935495 (Q72935495 P137 Q27229237)\n",
    "\n",
    "All done!."
   ]
  }
 ],
 "metadata": {
  "kernelspec": {
   "display_name": "Python 3",
   "language": "python",
   "name": "python3"
  },
  "language_info": {
   "codemirror_mode": {
    "name": "ipython",
    "version": 3
   },
   "file_extension": ".py",
   "mimetype": "text/x-python",
   "name": "python",
   "nbconvert_exporter": "python",
   "pygments_lexer": "ipython3",
   "version": "3.6.5"
  }
 },
 "nbformat": 4,
 "nbformat_minor": 2
}
